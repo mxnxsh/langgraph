{
 "cells": [
  {
   "cell_type": "code",
   "execution_count": 3,
   "id": "0c454c4b",
   "metadata": {},
   "outputs": [],
   "source": [
    "from langgraph.graph import StateGraph, START, END\n",
    "from typing import TypedDict, Literal, Annotated\n",
    "from langchain_openai import ChatOpenAI\n",
    "from langchain_core.messages import SystemMessage, HumanMessage\n",
    "import operator\n",
    "from pydantic import BaseModel, Field\n"
   ]
  },
  {
   "cell_type": "code",
   "execution_count": 4,
   "id": "46b90343",
   "metadata": {},
   "outputs": [],
   "source": [
    "generator_llm = ChatOpenAI(model='gpt-4o-mini')\n",
    "evaluator_llm = ChatOpenAI(model='gpt-4o-mini')\n",
    "optimizer_llm = ChatOpenAI(model='gpt-4o-mini')"
   ]
  },
  {
   "cell_type": "code",
   "execution_count": 5,
   "id": "dd823340",
   "metadata": {},
   "outputs": [],
   "source": [
    "class TweetEvaluation(BaseModel):\n",
    "    evaluation: Literal[\"approved\", \"needs_improvement\"] = Field(..., description=\"Final evaluation result.\")\n",
    "    feedback: str = Field(..., description=\"feedback for the tweet.\")"
   ]
  },
  {
   "cell_type": "code",
   "execution_count": 6,
   "id": "6a5c166d",
   "metadata": {},
   "outputs": [],
   "source": [
    "structured_evaluator_llm = evaluator_llm.with_structured_output(TweetEvaluation)"
   ]
  },
  {
   "cell_type": "code",
   "execution_count": 7,
   "id": "d9a27fc9",
   "metadata": {},
   "outputs": [],
   "source": [
    "# state\n",
    "class TweetState(TypedDict):\n",
    "\n",
    "    topic: str\n",
    "    tweet: str\n",
    "    evaluation: Literal[\"approved\", \"needs_improvement\"]\n",
    "    feedback: str\n",
    "    iteration: int\n",
    "    max_iteration: int\n",
    "\n",
    "    tweet_history: Annotated[list[str], operator.add]\n",
    "    feedback_history: Annotated[list[str], operator.add]"
   ]
  },
  {
   "cell_type": "code",
   "execution_count": 8,
   "id": "f4efdfc8",
   "metadata": {},
   "outputs": [],
   "source": [
    "def generate_tweet(state: TweetState):\n",
    "\n",
    "    # prompt\n",
    "    messages = [\n",
    "        SystemMessage(content=\"You are a funny and clever Twitter/X influencer.\"),\n",
    "        HumanMessage(content=f\"\"\"\n",
    "Write a short, original, and hilarious tweet on the topic: \"{state['topic']}\".\n",
    "\n",
    "Rules:\n",
    "- Do NOT use question-answer format.\n",
    "- Max 280 characters.\n",
    "- Use observational humor, irony, sarcasm, or cultural references.\n",
    "- Think in meme logic, punchlines, or relatable takes.\n",
    "- Use simple, day to day english\n",
    "\"\"\")\n",
    "    ]\n",
    "\n",
    "    # send generator_llm\n",
    "    response = generator_llm.invoke(messages).content\n",
    "\n",
    "    # return response\n",
    "    return {'tweet': response, 'tweet_history': [response]}"
   ]
  },
  {
   "cell_type": "code",
   "execution_count": 9,
   "id": "c50579b3",
   "metadata": {},
   "outputs": [],
   "source": [
    "def evaluate_tweet(state: TweetState):\n",
    "\n",
    "    # prompt\n",
    "    messages = [\n",
    "    SystemMessage(content=\"You are a ruthless, no-laugh-given Twitter critic. You evaluate tweets based on humor, originality, virality, and tweet format.\"),\n",
    "    HumanMessage(content=f\"\"\"\n",
    "Evaluate the following tweet:\n",
    "\n",
    "Tweet: \"{state['tweet']}\"\n",
    "\n",
    "Use the criteria below to evaluate the tweet:\n",
    "\n",
    "1. Originality – Is this fresh, or have you seen it a hundred times before?  \n",
    "2. Humor – Did it genuinely make you smile, laugh, or chuckle?  \n",
    "3. Punchiness – Is it short, sharp, and scroll-stopping?  \n",
    "4. Virality Potential – Would people retweet or share it?  \n",
    "5. Format – Is it a well-formed tweet (not a setup-punchline joke, not a Q&A joke, and under 280 characters)?\n",
    "\n",
    "Auto-reject if:\n",
    "- It's written in question-answer format (e.g., \"Why did...\" or \"What happens when...\")\n",
    "- It exceeds 280 characters\n",
    "- It reads like a traditional setup-punchline joke\n",
    "- Dont end with generic, throwaway, or deflating lines that weaken the humor (e.g., “Masterpieces of the auntie-uncle universe” or vague summaries)\n",
    "\n",
    "### Respond ONLY in structured format:\n",
    "- evaluation: \"approved\" or \"needs_improvement\"  \n",
    "- feedback: One paragraph explaining the strengths and weaknesses \n",
    "\"\"\")\n",
    "]\n",
    "\n",
    "    response = structured_evaluator_llm.invoke(messages)\n",
    "\n",
    "    return {'evaluation':response.evaluation, 'feedback': response.feedback, 'feedback_history': [response.feedback]}"
   ]
  },
  {
   "cell_type": "code",
   "execution_count": 10,
   "id": "d97e1e57",
   "metadata": {},
   "outputs": [],
   "source": [
    "def optimize_tweet(state: TweetState):\n",
    "\n",
    "    messages = [\n",
    "        SystemMessage(content=\"You punch up tweets for virality and humor based on given feedback.\"),\n",
    "        HumanMessage(content=f\"\"\"\n",
    "Improve the tweet based on this feedback:\n",
    "\"{state['feedback']}\"\n",
    "\n",
    "Topic: \"{state['topic']}\"\n",
    "Original Tweet:\n",
    "{state['tweet']}\n",
    "\n",
    "Re-write it as a short, viral-worthy tweet. Avoid Q&A style and stay under 280 characters.\n",
    "\"\"\")\n",
    "    ]\n",
    "\n",
    "    response = optimizer_llm.invoke(messages).content\n",
    "    iteration = state['iteration'] + 1\n",
    "\n",
    "    return {'tweet': response, 'iteration': iteration, 'tweet_history': [response]}"
   ]
  },
  {
   "cell_type": "code",
   "execution_count": 11,
   "id": "320915c9",
   "metadata": {},
   "outputs": [],
   "source": [
    "def route_evaluation(state: TweetState):\n",
    "\n",
    "    if state['evaluation'] == 'approved' or state['iteration'] >= state['max_iteration']:\n",
    "        return 'approved'\n",
    "    else:\n",
    "        return 'needs_improvement'"
   ]
  },
  {
   "cell_type": "code",
   "execution_count": 16,
   "id": "05f30196",
   "metadata": {},
   "outputs": [],
   "source": [
    "graph = StateGraph(TweetState)\n",
    "\n",
    "graph.add_node('generate', generate_tweet)\n",
    "graph.add_node('evaluate', evaluate_tweet)\n",
    "graph.add_node('optimize', optimize_tweet)\n",
    "\n",
    "\n",
    "graph.add_edge(START, 'generate')\n",
    "graph.add_edge('generate', 'evaluate')\n",
    "graph.add_conditional_edges('evaluate',route_evaluation,{'approved': END, 'needs_improvement': 'optimize'})\n",
    "graph.add_edge('optimize','evaluate')\n",
    "\n",
    "workflow = graph.compile()\n"
   ]
  },
  {
   "cell_type": "code",
   "execution_count": 17,
   "id": "d445650f",
   "metadata": {},
   "outputs": [
    {
     "data": {
      "image/png": "[encoded data removed]",
      "text/plain": [
       "<langgraph.graph.state.CompiledStateGraph object at 0x000002A4BAA4F170>"
      ]
     },
     "execution_count": 17,
     "metadata": {},
     "output_type": "execute_result"
    }
   ],
   "source": [
    "workflow"
   ]
  },
  {
   "cell_type": "code",
   "execution_count": 18,
   "id": "0ef71c27",
   "metadata": {},
   "outputs": [],
   "source": [
    "initial_state = {\n",
    "    \"topic\": \"qwerabc\",\n",
    "    \"iteration\": 1,\n",
    "    \"max_iteration\": 5\n",
    "}\n",
    "result = workflow.invoke(initial_state)"
   ]
  },
  {
   "cell_type": "code",
   "execution_count": 19,
   "id": "b0d5f625",
   "metadata": {},
   "outputs": [
    {
     "data": {
      "text/plain": [
       "{'topic': 'qwerabc',\n",
       " 'tweet': '\"Introducing \\'qwerabc\\': the passcode of one-handed legends! ☕️✨ Because conquering life means juggling coffee in one hand and *absolutely nothing* in the other. Who says you can\\'t do it all? #OneHandWonder #LegendaryMultitasking\"',\n",
       " 'evaluation': 'needs_improvement',\n",
       " 'feedback': \"The tweet attempts to poke fun at multitasking with a playful tone, but it lacks originality as the concept of juggling coffee while doing tasks is cliché in the social media landscape. While there are light humorous elements, it doesn't deliver a strong punchline or a unique twist to be genuinely funny. The overall flow is a bit wordy, making it less punchy and less likely to captivate readers quickly. The hashtags add a bit of flavor, but the humor doesn't feel fresh enough to encourage widespread sharing.\",\n",
       " 'iteration': 5,\n",
       " 'max_iteration': 5,\n",
       " 'tweet_history': ['Just discovered that \"qwerabc\" is the secret code for all the keyboard warriors who think typing with one hand while sipping coffee qualifies as multitasking. 🖥️☕️ #TechSavvy #CaffeinatedChaos',\n",
       "  '\"Just found out \\'qwerabc\\' is the top-secret passcode for all the one-handed keyboard warriors. Sipping coffee while typing counts as \\'multitasking,\\' right? 😂💻☕️ #KeyboardNinja #CaffeineFiction\"',\n",
       "  '\"Turns out \\'qwerabc\\' is the go-to passcode for one-handed keyboard wizards! Who needs two hands when you can master multitasking with just a coffee and a dream? ☕️💻 #KeyboardNinja #CaffeineConqueror\"',\n",
       "  '\"Officially declaring \\'qwerabc\\' as the passcode of the one-handed legends. Who knew mastering multitasking meant balancing coffee in one hand and destiny in the other? ☕️✨ #OneHandWonder #CoffeeAndConquer\"',\n",
       "  '\"Introducing \\'qwerabc\\': the passcode of one-handed legends! ☕️✨ Because conquering life means juggling coffee in one hand and *absolutely nothing* in the other. Who says you can\\'t do it all? #OneHandWonder #LegendaryMultitasking\"'],\n",
       " 'feedback_history': ['The tweet showcases a moderate level of originality with the play on keyboard warrior culture, but it lacks the punchiness necessary to stand out amidst the Twitter noise. While the concept of multitasking with one hand is relatable, the execution feels somewhat verbose and could benefit from being more concise. The humor is there but not in a way that elicits a strong reaction; it might make some eyebrows raise but won\\'t really inspire laughter. The hashtags \"#TechSavvy\" and \"#CaffeinatedChaos\" are relevant but feel cliché, which detracts from its potential virality. Overall, it\\'s a decent attempt with room for refinement in humor and delivery.',\n",
       "  \"The tweet attempts a playful concept blending technology and humor, but it falls flat on originality, as the idea of secret passcodes and multitasking isn't particularly fresh. The humor is mild and relies too heavily on the emoji, which may not resonate with everyone. While the tweet is technically well-formed and under 280 characters, it lacks punchiness and a strong hook to grab attention quickly. Its potential for virality is questionable; it may elicit a chuckle but is unlikely to be widely shared due to common themes.\",\n",
       "  'This tweet attempts to combine humor and originality, but the concept of multitasking with a quirky passcode feels overdone and lacks true freshness. The humor is more of a mild chuckle than a genuine laugh, and while it has some punchy elements, it could be shorter and sharper to enhance scroll-stopping potential. Additionally, the hashtag choices seem a bit cliché and may not drive the virality it seems to aim for. Ultimately, it feels like a missed opportunity to create something more engaging.',\n",
       "  \"While the tweet showcases some creativity with the idea of a 'passcode of the one-handed legends,' it ultimately falls flat in terms of humor and punchiness. The concept of multitasking with coffee is relatable, but the execution lacks a sharp edge that could elicit a genuine laugh. Furthermore, the structure is a bit lengthy for a tweet and could benefit from being more concise. The hashtags are relevant but not strong enough to significantly boost its virality potential. Overall, it has a fun premise but lacks the impactful delivery needed to capture attention.\",\n",
       "  \"The tweet attempts to poke fun at multitasking with a playful tone, but it lacks originality as the concept of juggling coffee while doing tasks is cliché in the social media landscape. While there are light humorous elements, it doesn't deliver a strong punchline or a unique twist to be genuinely funny. The overall flow is a bit wordy, making it less punchy and less likely to captivate readers quickly. The hashtags add a bit of flavor, but the humor doesn't feel fresh enough to encourage widespread sharing.\"]}"
      ]
     },
     "execution_count": 19,
     "metadata": {},
     "output_type": "execute_result"
    }
   ],
   "source": [
    "result"
   ]
  },
  {
   "cell_type": "code",
   "execution_count": 20,
   "id": "ebe092b8",
   "metadata": {},
   "outputs": [
    {
     "name": "stdout",
     "output_type": "stream",
     "text": [
      "Just discovered that \"qwerabc\" is the secret code for all the keyboard warriors who think typing with one hand while sipping coffee qualifies as multitasking. 🖥️☕️ #TechSavvy #CaffeinatedChaos\n",
      "\"Just found out 'qwerabc' is the top-secret passcode for all the one-handed keyboard warriors. Sipping coffee while typing counts as 'multitasking,' right? 😂💻☕️ #KeyboardNinja #CaffeineFiction\"\n",
      "\"Turns out 'qwerabc' is the go-to passcode for one-handed keyboard wizards! Who needs two hands when you can master multitasking with just a coffee and a dream? ☕️💻 #KeyboardNinja #CaffeineConqueror\"\n",
      "\"Officially declaring 'qwerabc' as the passcode of the one-handed legends. Who knew mastering multitasking meant balancing coffee in one hand and destiny in the other? ☕️✨ #OneHandWonder #CoffeeAndConquer\"\n",
      "\"Introducing 'qwerabc': the passcode of one-handed legends! ☕️✨ Because conquering life means juggling coffee in one hand and *absolutely nothing* in the other. Who says you can't do it all? #OneHandWonder #LegendaryMultitasking\"\n"
     ]
    }
   ],
   "source": [
    "for tweet in result['tweet_history']:\n",
    "    print(tweet)"
   ]
  }
 ],
 "metadata": {
  "kernelspec": {
   "display_name": "Python 3",
   "language": "python",
   "name": "python3"
  },
  "language_info": {
   "codemirror_mode": {
    "name": "ipython",
    "version": 3
   },
   "file_extension": ".py",
   "mimetype": "text/x-python",
   "name": "python",
   "nbconvert_exporter": "python",
   "pygments_lexer": "ipython3",
   "version": "3.12.6"
  }
 },
 "nbformat": 4,
 "nbformat_minor": 5
}
