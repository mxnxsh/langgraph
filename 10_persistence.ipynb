{
 "cells": [
  {
   "cell_type": "code",
   "execution_count": 1,
   "id": "b6660c28",
   "metadata": {},
   "outputs": [],
   "source": [
    "from langgraph.graph import StateGraph, START, END\n",
    "from typing import TypedDict\n",
    "from langchain_openai import ChatOpenAI\n",
    "from dotenv import load_dotenv\n",
    "from langgraph.checkpoint.memory import InMemorySaver"
   ]
  },
  {
   "cell_type": "code",
   "execution_count": 2,
   "id": "b416ff25",
   "metadata": {},
   "outputs": [],
   "source": [
    "load_dotenv()\n",
    "\n",
    "llm = ChatOpenAI()"
   ]
  },
  {
   "cell_type": "code",
   "execution_count": 3,
   "id": "e9db9215",
   "metadata": {},
   "outputs": [],
   "source": [
    "class JokeState(TypedDict):\n",
    "\n",
    "    topic: str\n",
    "    joke: str\n",
    "    explanation: str"
   ]
  },
  {
   "cell_type": "code",
   "execution_count": 4,
   "id": "5dcb2fea",
   "metadata": {},
   "outputs": [],
   "source": [
    "def generate_joke(state: JokeState):\n",
    "\n",
    "    prompt = f'generate a joke on the topic {state[\"topic\"]}'\n",
    "    response = llm.invoke(prompt).content\n",
    "\n",
    "    return {'joke': response}"
   ]
  },
  {
   "cell_type": "code",
   "execution_count": 5,
   "id": "ddc3d4e8",
   "metadata": {},
   "outputs": [],
   "source": [
    "def generate_explanation(state: JokeState):\n",
    "\n",
    "    prompt = f'write an explanation for the joke - {state[\"joke\"]}'\n",
    "    response = llm.invoke(prompt).content\n",
    "\n",
    "    return {'explanation': response}"
   ]
  },
  {
   "cell_type": "code",
   "execution_count": 6,
   "id": "b12c8163",
   "metadata": {},
   "outputs": [],
   "source": [
    "graph = StateGraph(JokeState)\n",
    "\n",
    "graph.add_node('generate_joke', generate_joke)\n",
    "graph.add_node('generate_explanation', generate_explanation)\n",
    "\n",
    "graph.add_edge(START, 'generate_joke')\n",
    "graph.add_edge('generate_joke', 'generate_explanation')\n",
    "graph.add_edge('generate_explanation', END)\n",
    "\n",
    "checkpointer = InMemorySaver()\n",
    "\n",
    "workflow = graph.compile(checkpointer=checkpointer)"
   ]
  },
  {
   "cell_type": "code",
   "execution_count": 7,
   "id": "21d8d593",
   "metadata": {},
   "outputs": [
    {
     "data": {
      "text/plain": [
       "{'topic': 'pizza',\n",
       " 'joke': 'Why did the pizza go to the doctor? Because it was feeling a little crusty!',\n",
       " 'explanation': 'This joke plays on the double meaning of the word \"crusty.\" In one sense, it can mean having a hard, dry surface like the crust of a pizza. In another sense, it can mean feeling irritable or grumpy. By saying that the pizza went to the doctor because it was feeling \"crusty,\" the joke is suggesting that the pizza was not only physically crusty but also in a bad mood. This creates a silly and playful image of a pizza seeking medical help for its physical and emotional state.'}"
      ]
     },
     "execution_count": 7,
     "metadata": {},
     "output_type": "execute_result"
    }
   ],
   "source": [
    "config1 = {\"configurable\": {\"thread_id\": \"1\"}}\n",
    "workflow.invoke({'topic':'pizza'}, config=config1)"
   ]
  },
  {
   "cell_type": "code",
   "execution_count": 8,
   "id": "6db236c2",
   "metadata": {},
   "outputs": [
    {
     "data": {
      "text/plain": [
       "StateSnapshot(values={'topic': 'pizza', 'joke': 'Why did the pizza go to the doctor? Because it was feeling a little crusty!', 'explanation': 'This joke plays on the double meaning of the word \"crusty.\" In one sense, it can mean having a hard, dry surface like the crust of a pizza. In another sense, it can mean feeling irritable or grumpy. By saying that the pizza went to the doctor because it was feeling \"crusty,\" the joke is suggesting that the pizza was not only physically crusty but also in a bad mood. This creates a silly and playful image of a pizza seeking medical help for its physical and emotional state.'}, next=(), config={'configurable': {'thread_id': '1', 'checkpoint_ns': '', 'checkpoint_id': '1f0a1fd4-570e-648d-8002-f85918f1b19c'}}, metadata={'source': 'loop', 'step': 2, 'parents': {}}, created_at='2025-10-05T15:09:21.230964+00:00', parent_config={'configurable': {'thread_id': '1', 'checkpoint_ns': '', 'checkpoint_id': '1f0a1fd4-4937-68b8-8001-f99da3e96f3b'}}, tasks=(), interrupts=())"
      ]
     },
     "execution_count": 8,
     "metadata": {},
     "output_type": "execute_result"
    }
   ],
   "source": [
    "workflow.get_state(config1)"
   ]
  },
  {
   "cell_type": "code",
   "execution_count": 9,
   "id": "aedc7026",
   "metadata": {},
   "outputs": [
    {
     "data": {
      "text/plain": [
       "[StateSnapshot(values={'topic': 'pizza', 'joke': 'Why did the pizza go to the doctor? Because it was feeling a little crusty!', 'explanation': 'This joke plays on the double meaning of the word \"crusty.\" In one sense, it can mean having a hard, dry surface like the crust of a pizza. In another sense, it can mean feeling irritable or grumpy. By saying that the pizza went to the doctor because it was feeling \"crusty,\" the joke is suggesting that the pizza was not only physically crusty but also in a bad mood. This creates a silly and playful image of a pizza seeking medical help for its physical and emotional state.'}, next=(), config={'configurable': {'thread_id': '1', 'checkpoint_ns': '', 'checkpoint_id': '1f0a1fd4-570e-648d-8002-f85918f1b19c'}}, metadata={'source': 'loop', 'step': 2, 'parents': {}}, created_at='2025-10-05T15:09:21.230964+00:00', parent_config={'configurable': {'thread_id': '1', 'checkpoint_ns': '', 'checkpoint_id': '1f0a1fd4-4937-68b8-8001-f99da3e96f3b'}}, tasks=(), interrupts=()),\n",
       " StateSnapshot(values={'topic': 'pizza', 'joke': 'Why did the pizza go to the doctor? Because it was feeling a little crusty!'}, next=('generate_explanation',), config={'configurable': {'thread_id': '1', 'checkpoint_ns': '', 'checkpoint_id': '1f0a1fd4-4937-68b8-8001-f99da3e96f3b'}}, metadata={'source': 'loop', 'step': 1, 'parents': {}}, created_at='2025-10-05T15:09:19.779858+00:00', parent_config={'configurable': {'thread_id': '1', 'checkpoint_ns': '', 'checkpoint_id': '1f0a1fd4-3c07-673c-8000-fbdc4334050e'}}, tasks=(PregelTask(id='4883e0b5-6708-f0ec-0750-f214940f5fc1', name='generate_explanation', path=('__pregel_pull', 'generate_explanation'), error=None, interrupts=(), state=None, result={'explanation': 'This joke plays on the double meaning of the word \"crusty.\" In one sense, it can mean having a hard, dry surface like the crust of a pizza. In another sense, it can mean feeling irritable or grumpy. By saying that the pizza went to the doctor because it was feeling \"crusty,\" the joke is suggesting that the pizza was not only physically crusty but also in a bad mood. This creates a silly and playful image of a pizza seeking medical help for its physical and emotional state.'}),), interrupts=()),\n",
       " StateSnapshot(values={'topic': 'pizza'}, next=('generate_joke',), config={'configurable': {'thread_id': '1', 'checkpoint_ns': '', 'checkpoint_id': '1f0a1fd4-3c07-673c-8000-fbdc4334050e'}}, metadata={'source': 'loop', 'step': 0, 'parents': {}}, created_at='2025-10-05T15:09:18.397010+00:00', parent_config={'configurable': {'thread_id': '1', 'checkpoint_ns': '', 'checkpoint_id': '1f0a1fd4-3bd9-60fd-bfff-395af157350e'}}, tasks=(PregelTask(id='a38e26b0-6272-5bdd-48b3-12bb0ecd3acb', name='generate_joke', path=('__pregel_pull', 'generate_joke'), error=None, interrupts=(), state=None, result={'joke': 'Why did the pizza go to the doctor? Because it was feeling a little crusty!'}),), interrupts=()),\n",
       " StateSnapshot(values={}, next=('__start__',), config={'configurable': {'thread_id': '1', 'checkpoint_ns': '', 'checkpoint_id': '1f0a1fd4-3bd9-60fd-bfff-395af157350e'}}, metadata={'source': 'input', 'step': -1, 'parents': {}}, created_at='2025-10-05T15:09:18.378009+00:00', parent_config=None, tasks=(PregelTask(id='26cd8ef8-6119-50bc-ec6c-bebe99fb0158', name='__start__', path=('__pregel_pull', '__start__'), error=None, interrupts=(), state=None, result={'topic': 'pizza'}),), interrupts=())]"
      ]
     },
     "execution_count": 9,
     "metadata": {},
     "output_type": "execute_result"
    }
   ],
   "source": [
    "list(workflow.get_state_history(config1))"
   ]
  },
  {
   "cell_type": "code",
   "execution_count": 10,
   "id": "a4f25803",
   "metadata": {},
   "outputs": [
    {
     "data": {
      "text/plain": [
       "{'topic': 'pasta',\n",
       " 'joke': 'Why did the pasta blush? Because it saw the spaghetti sauce!',\n",
       " 'explanation': 'This joke is a play on words, using a pun to create humor. In this case, the joke refers to pasta blushing, which is obviously not something that can happen in reality. The punchline \"Because it saw the spaghetti sauce!\" is a clever twist on the idea of pasta blushing - suggesting that the pasta blushed because it was embarrassed or shy after seeing the spaghetti sauce, as if it were in a romantic situation. The humor comes from the unexpected connection between the pasta and sauce, and the absurdity of the idea that pasta could actually blush.'}"
      ]
     },
     "execution_count": 10,
     "metadata": {},
     "output_type": "execute_result"
    }
   ],
   "source": [
    "config2 = {\"configurable\": {\"thread_id\": \"2\"}}\n",
    "workflow.invoke({'topic':'pasta'}, config=config2)\n"
   ]
  },
  {
   "cell_type": "code",
   "execution_count": 11,
   "id": "b19855c9",
   "metadata": {},
   "outputs": [
    {
     "data": {
      "text/plain": [
       "StateSnapshot(values={'topic': 'pasta', 'joke': 'Why did the pasta blush? Because it saw the spaghetti sauce!', 'explanation': 'This joke is a play on words, using a pun to create humor. In this case, the joke refers to pasta blushing, which is obviously not something that can happen in reality. The punchline \"Because it saw the spaghetti sauce!\" is a clever twist on the idea of pasta blushing - suggesting that the pasta blushed because it was embarrassed or shy after seeing the spaghetti sauce, as if it were in a romantic situation. The humor comes from the unexpected connection between the pasta and sauce, and the absurdity of the idea that pasta could actually blush.'}, next=(), config={'configurable': {'thread_id': '2', 'checkpoint_ns': '', 'checkpoint_id': '1f0a1fd7-060d-6922-8002-c964c0da0637'}}, metadata={'source': 'loop', 'step': 2, 'parents': {}}, created_at='2025-10-05T15:10:33.267843+00:00', parent_config={'configurable': {'thread_id': '2', 'checkpoint_ns': '', 'checkpoint_id': '1f0a1fd6-fa66-62a7-8001-7118c366f381'}}, tasks=(), interrupts=())"
      ]
     },
     "execution_count": 11,
     "metadata": {},
     "output_type": "execute_result"
    }
   ],
   "source": [
    "workflow.get_state(config2)\n"
   ]
  },
  {
   "cell_type": "code",
   "execution_count": 12,
   "id": "261129f6",
   "metadata": {},
   "outputs": [
    {
     "data": {
      "text/plain": [
       "[StateSnapshot(values={'topic': 'pasta', 'joke': 'Why did the pasta blush? Because it saw the spaghetti sauce!', 'explanation': 'This joke is a play on words, using a pun to create humor. In this case, the joke refers to pasta blushing, which is obviously not something that can happen in reality. The punchline \"Because it saw the spaghetti sauce!\" is a clever twist on the idea of pasta blushing - suggesting that the pasta blushed because it was embarrassed or shy after seeing the spaghetti sauce, as if it were in a romantic situation. The humor comes from the unexpected connection between the pasta and sauce, and the absurdity of the idea that pasta could actually blush.'}, next=(), config={'configurable': {'thread_id': '2', 'checkpoint_ns': '', 'checkpoint_id': '1f0a1fd7-060d-6922-8002-c964c0da0637'}}, metadata={'source': 'loop', 'step': 2, 'parents': {}}, created_at='2025-10-05T15:10:33.267843+00:00', parent_config={'configurable': {'thread_id': '2', 'checkpoint_ns': '', 'checkpoint_id': '1f0a1fd6-fa66-62a7-8001-7118c366f381'}}, tasks=(), interrupts=()),\n",
       " StateSnapshot(values={'topic': 'pasta', 'joke': 'Why did the pasta blush? Because it saw the spaghetti sauce!'}, next=('generate_explanation',), config={'configurable': {'thread_id': '2', 'checkpoint_ns': '', 'checkpoint_id': '1f0a1fd6-fa66-62a7-8001-7118c366f381'}}, metadata={'source': 'loop', 'step': 1, 'parents': {}}, created_at='2025-10-05T15:10:32.045840+00:00', parent_config={'configurable': {'thread_id': '2', 'checkpoint_ns': '', 'checkpoint_id': '1f0a1fd6-eaa2-6cec-8000-163d635d9451'}}, tasks=(PregelTask(id='13bfc5f7-7176-26df-7151-ad12b20cb97a', name='generate_explanation', path=('__pregel_pull', 'generate_explanation'), error=None, interrupts=(), state=None, result={'explanation': 'This joke is a play on words, using a pun to create humor. In this case, the joke refers to pasta blushing, which is obviously not something that can happen in reality. The punchline \"Because it saw the spaghetti sauce!\" is a clever twist on the idea of pasta blushing - suggesting that the pasta blushed because it was embarrassed or shy after seeing the spaghetti sauce, as if it were in a romantic situation. The humor comes from the unexpected connection between the pasta and sauce, and the absurdity of the idea that pasta could actually blush.'}),), interrupts=()),\n",
       " StateSnapshot(values={'topic': 'pasta'}, next=('generate_joke',), config={'configurable': {'thread_id': '2', 'checkpoint_ns': '', 'checkpoint_id': '1f0a1fd6-eaa2-6cec-8000-163d635d9451'}}, metadata={'source': 'loop', 'step': 0, 'parents': {}}, created_at='2025-10-05T15:10:30.392958+00:00', parent_config={'configurable': {'thread_id': '2', 'checkpoint_ns': '', 'checkpoint_id': '1f0a1fd6-ea99-6066-bfff-f045af78eca1'}}, tasks=(PregelTask(id='b4757862-81da-ca4e-a883-153b4484bfb0', name='generate_joke', path=('__pregel_pull', 'generate_joke'), error=None, interrupts=(), state=None, result={'joke': 'Why did the pasta blush? Because it saw the spaghetti sauce!'}),), interrupts=()),\n",
       " StateSnapshot(values={}, next=('__start__',), config={'configurable': {'thread_id': '2', 'checkpoint_ns': '', 'checkpoint_id': '1f0a1fd6-ea99-6066-bfff-f045af78eca1'}}, metadata={'source': 'input', 'step': -1, 'parents': {}}, created_at='2025-10-05T15:10:30.388950+00:00', parent_config=None, tasks=(PregelTask(id='97cd30ef-e9bc-2843-d308-0f8c402b92fa', name='__start__', path=('__pregel_pull', '__start__'), error=None, interrupts=(), state=None, result={'topic': 'pasta'}),), interrupts=())]"
      ]
     },
     "execution_count": 12,
     "metadata": {},
     "output_type": "execute_result"
    }
   ],
   "source": [
    "list(workflow.get_state_history(config2))\n"
   ]
  },
  {
   "cell_type": "markdown",
   "id": "5d7da499",
   "metadata": {},
   "source": [
    "Time Travel"
   ]
  },
  {
   "cell_type": "code",
   "execution_count": 16,
   "id": "2f98a0a6",
   "metadata": {},
   "outputs": [
    {
     "data": {
      "text/plain": [
       "StateSnapshot(values={'topic': 'pizza'}, next=('generate_joke',), config={'configurable': {'thread_id': '1', 'checkpoint_id': '1f0a1fd4-3c07-673c-8000-fbdc4334050e'}}, metadata={'source': 'loop', 'step': 0, 'parents': {}}, created_at='2025-10-05T15:09:18.397010+00:00', parent_config={'configurable': {'thread_id': '1', 'checkpoint_ns': '', 'checkpoint_id': '1f0a1fd4-3bd9-60fd-bfff-395af157350e'}}, tasks=(PregelTask(id='a38e26b0-6272-5bdd-48b3-12bb0ecd3acb', name='generate_joke', path=('__pregel_pull', 'generate_joke'), error=None, interrupts=(), state=None, result={'joke': 'Why did the pizza go to the doctor? Because it was feeling a little crusty!'}),), interrupts=())"
      ]
     },
     "execution_count": 16,
     "metadata": {},
     "output_type": "execute_result"
    }
   ],
   "source": [
    "workflow.get_state({\"configurable\": {\"thread_id\": \"1\", \"checkpoint_id\": \"1f0a1fd4-3c07-673c-8000-fbdc4334050e\"}})\n"
   ]
  },
  {
   "cell_type": "code",
   "execution_count": 17,
   "id": "cc97b89b",
   "metadata": {},
   "outputs": [
    {
     "data": {
      "text/plain": [
       "{'topic': 'pizza',\n",
       " 'joke': \"Why did the pizza go to the therapist? Because it had too many toppings and couldn't handle the pressure!\",\n",
       " 'explanation': 'This joke plays on the idea of a pizza having \"toppings\" like a person might have \"issues\" or \"problems.\" In this case, the pizza is portrayed as needing therapy because it has too many toppings, causing it stress or pressure. The juxtaposition of a pizza seeking therapy adds humor to the situation.'}"
      ]
     },
     "execution_count": 17,
     "metadata": {},
     "output_type": "execute_result"
    }
   ],
   "source": [
    "workflow.invoke(None, {\"configurable\": {\"thread_id\": \"1\", \"checkpoint_id\": \"1f0a1fd4-3c07-673c-8000-fbdc4334050e\"}})\n"
   ]
  },
  {
   "cell_type": "code",
   "execution_count": 18,
   "id": "8b1053ce",
   "metadata": {},
   "outputs": [
    {
     "data": {
      "text/plain": [
       "[StateSnapshot(values={'topic': 'pizza', 'joke': \"Why did the pizza go to the therapist? Because it had too many toppings and couldn't handle the pressure!\", 'explanation': 'This joke plays on the idea of a pizza having \"toppings\" like a person might have \"issues\" or \"problems.\" In this case, the pizza is portrayed as needing therapy because it has too many toppings, causing it stress or pressure. The juxtaposition of a pizza seeking therapy adds humor to the situation.'}, next=(), config={'configurable': {'thread_id': '1', 'checkpoint_ns': '', 'checkpoint_id': '1f0a2010-0347-60ce-8002-9a98ee68c79f'}}, metadata={'source': 'loop', 'step': 2, 'parents': {}}, created_at='2025-10-05T15:36:03.058913+00:00', parent_config={'configurable': {'thread_id': '1', 'checkpoint_ns': '', 'checkpoint_id': '1f0a200f-f424-667f-8001-4a887df4d8b4'}}, tasks=(), interrupts=()),\n",
       " StateSnapshot(values={'topic': 'pizza', 'joke': \"Why did the pizza go to the therapist? Because it had too many toppings and couldn't handle the pressure!\"}, next=('generate_explanation',), config={'configurable': {'thread_id': '1', 'checkpoint_ns': '', 'checkpoint_id': '1f0a200f-f424-667f-8001-4a887df4d8b4'}}, metadata={'source': 'loop', 'step': 1, 'parents': {}}, created_at='2025-10-05T15:36:01.471859+00:00', parent_config={'configurable': {'thread_id': '1', 'checkpoint_ns': '', 'checkpoint_id': '1f0a1fd4-3c07-673c-8000-fbdc4334050e'}}, tasks=(PregelTask(id='d7ed46d7-e813-d18e-b085-6b18ce0006ae', name='generate_explanation', path=('__pregel_pull', 'generate_explanation'), error=None, interrupts=(), state=None, result={'explanation': 'This joke plays on the idea of a pizza having \"toppings\" like a person might have \"issues\" or \"problems.\" In this case, the pizza is portrayed as needing therapy because it has too many toppings, causing it stress or pressure. The juxtaposition of a pizza seeking therapy adds humor to the situation.'}),), interrupts=()),\n",
       " StateSnapshot(values={'topic': 'pizza', 'joke': 'Why did the pizza go to the doctor? Because it was feeling a little crusty!', 'explanation': 'This joke plays on the double meaning of the word \"crusty.\" In one sense, it can mean having a hard, dry surface like the crust of a pizza. In another sense, it can mean feeling irritable or grumpy. By saying that the pizza went to the doctor because it was feeling \"crusty,\" the joke is suggesting that the pizza was not only physically crusty but also in a bad mood. This creates a silly and playful image of a pizza seeking medical help for its physical and emotional state.'}, next=(), config={'configurable': {'thread_id': '1', 'checkpoint_ns': '', 'checkpoint_id': '1f0a1fd4-570e-648d-8002-f85918f1b19c'}}, metadata={'source': 'loop', 'step': 2, 'parents': {}}, created_at='2025-10-05T15:09:21.230964+00:00', parent_config={'configurable': {'thread_id': '1', 'checkpoint_ns': '', 'checkpoint_id': '1f0a1fd4-4937-68b8-8001-f99da3e96f3b'}}, tasks=(), interrupts=()),\n",
       " StateSnapshot(values={'topic': 'pizza', 'joke': 'Why did the pizza go to the doctor? Because it was feeling a little crusty!'}, next=('generate_explanation',), config={'configurable': {'thread_id': '1', 'checkpoint_ns': '', 'checkpoint_id': '1f0a1fd4-4937-68b8-8001-f99da3e96f3b'}}, metadata={'source': 'loop', 'step': 1, 'parents': {}}, created_at='2025-10-05T15:09:19.779858+00:00', parent_config={'configurable': {'thread_id': '1', 'checkpoint_ns': '', 'checkpoint_id': '1f0a1fd4-3c07-673c-8000-fbdc4334050e'}}, tasks=(PregelTask(id='4883e0b5-6708-f0ec-0750-f214940f5fc1', name='generate_explanation', path=('__pregel_pull', 'generate_explanation'), error=None, interrupts=(), state=None, result={'explanation': 'This joke plays on the double meaning of the word \"crusty.\" In one sense, it can mean having a hard, dry surface like the crust of a pizza. In another sense, it can mean feeling irritable or grumpy. By saying that the pizza went to the doctor because it was feeling \"crusty,\" the joke is suggesting that the pizza was not only physically crusty but also in a bad mood. This creates a silly and playful image of a pizza seeking medical help for its physical and emotional state.'}),), interrupts=()),\n",
       " StateSnapshot(values={'topic': 'pizza'}, next=('generate_joke',), config={'configurable': {'thread_id': '1', 'checkpoint_ns': '', 'checkpoint_id': '1f0a1fd4-3c07-673c-8000-fbdc4334050e'}}, metadata={'source': 'loop', 'step': 0, 'parents': {}}, created_at='2025-10-05T15:09:18.397010+00:00', parent_config={'configurable': {'thread_id': '1', 'checkpoint_ns': '', 'checkpoint_id': '1f0a1fd4-3bd9-60fd-bfff-395af157350e'}}, tasks=(PregelTask(id='a38e26b0-6272-5bdd-48b3-12bb0ecd3acb', name='generate_joke', path=('__pregel_pull', 'generate_joke'), error=None, interrupts=(), state=None, result={'joke': 'Why did the pizza go to the doctor? Because it was feeling a little crusty!'}),), interrupts=()),\n",
       " StateSnapshot(values={}, next=('__start__',), config={'configurable': {'thread_id': '1', 'checkpoint_ns': '', 'checkpoint_id': '1f0a1fd4-3bd9-60fd-bfff-395af157350e'}}, metadata={'source': 'input', 'step': -1, 'parents': {}}, created_at='2025-10-05T15:09:18.378009+00:00', parent_config=None, tasks=(PregelTask(id='26cd8ef8-6119-50bc-ec6c-bebe99fb0158', name='__start__', path=('__pregel_pull', '__start__'), error=None, interrupts=(), state=None, result={'topic': 'pizza'}),), interrupts=())]"
      ]
     },
     "execution_count": 18,
     "metadata": {},
     "output_type": "execute_result"
    }
   ],
   "source": [
    "list(workflow.get_state_history(config1))\n"
   ]
  },
  {
   "cell_type": "code",
   "execution_count": 20,
   "id": "46ccf7dc",
   "metadata": {},
   "outputs": [
    {
     "data": {
      "text/plain": [
       "{'configurable': {'thread_id': '1',\n",
       "  'checkpoint_ns': '',\n",
       "  'checkpoint_id': '1f0a2016-6c96-6552-8001-f506832654d3'}}"
      ]
     },
     "execution_count": 20,
     "metadata": {},
     "output_type": "execute_result"
    }
   ],
   "source": [
    "workflow.update_state({\"configurable\": {\"thread_id\": \"1\", \"checkpoint_id\": \"1f0a1fd4-3c07-673c-8000-fbdc4334050e\", \"checkpoint_ns\": \"\"}}, {'topic':'samosa'})\n"
   ]
  },
  {
   "cell_type": "code",
   "execution_count": 21,
   "id": "d237da23",
   "metadata": {},
   "outputs": [
    {
     "data": {
      "text/plain": [
       "[StateSnapshot(values={'topic': 'samosa'}, next=('generate_joke',), config={'configurable': {'thread_id': '1', 'checkpoint_ns': '', 'checkpoint_id': '1f0a2016-6c96-6552-8001-f506832654d3'}}, metadata={'source': 'update', 'step': 1, 'parents': {}}, created_at='2025-10-05T15:38:55.162709+00:00', parent_config={'configurable': {'thread_id': '1', 'checkpoint_ns': '', 'checkpoint_id': '1f0a1fd4-3c07-673c-8000-fbdc4334050e'}}, tasks=(PregelTask(id='e4aaacb3-325d-12bc-01ed-be98c9cfce39', name='generate_joke', path=('__pregel_pull', 'generate_joke'), error=None, interrupts=(), state=None, result=None),), interrupts=()),\n",
       " StateSnapshot(values={'topic': 'samosa'}, next=('generate_joke',), config={'configurable': {'thread_id': '1', 'checkpoint_ns': '', 'checkpoint_id': '1f0a2010-cea2-63f4-8001-42b7d1dc41e8'}}, metadata={'source': 'update', 'step': 1, 'parents': {}}, created_at='2025-10-05T15:36:24.382360+00:00', parent_config={'configurable': {'thread_id': '1', 'checkpoint_ns': '', 'checkpoint_id': '1f0a1fd4-3c07-673c-8000-fbdc4334050e'}}, tasks=(PregelTask(id='ed6a461c-9923-6b8e-3c7d-e2877bd7a83c', name='generate_joke', path=('__pregel_pull', 'generate_joke'), error=None, interrupts=(), state=None, result=None),), interrupts=()),\n",
       " StateSnapshot(values={'topic': 'pizza', 'joke': \"Why did the pizza go to the therapist? Because it had too many toppings and couldn't handle the pressure!\", 'explanation': 'This joke plays on the idea of a pizza having \"toppings\" like a person might have \"issues\" or \"problems.\" In this case, the pizza is portrayed as needing therapy because it has too many toppings, causing it stress or pressure. The juxtaposition of a pizza seeking therapy adds humor to the situation.'}, next=(), config={'configurable': {'thread_id': '1', 'checkpoint_ns': '', 'checkpoint_id': '1f0a2010-0347-60ce-8002-9a98ee68c79f'}}, metadata={'source': 'loop', 'step': 2, 'parents': {}}, created_at='2025-10-05T15:36:03.058913+00:00', parent_config={'configurable': {'thread_id': '1', 'checkpoint_ns': '', 'checkpoint_id': '1f0a200f-f424-667f-8001-4a887df4d8b4'}}, tasks=(), interrupts=()),\n",
       " StateSnapshot(values={'topic': 'pizza', 'joke': \"Why did the pizza go to the therapist? Because it had too many toppings and couldn't handle the pressure!\"}, next=('generate_explanation',), config={'configurable': {'thread_id': '1', 'checkpoint_ns': '', 'checkpoint_id': '1f0a200f-f424-667f-8001-4a887df4d8b4'}}, metadata={'source': 'loop', 'step': 1, 'parents': {}}, created_at='2025-10-05T15:36:01.471859+00:00', parent_config={'configurable': {'thread_id': '1', 'checkpoint_ns': '', 'checkpoint_id': '1f0a1fd4-3c07-673c-8000-fbdc4334050e'}}, tasks=(PregelTask(id='d7ed46d7-e813-d18e-b085-6b18ce0006ae', name='generate_explanation', path=('__pregel_pull', 'generate_explanation'), error=None, interrupts=(), state=None, result={'explanation': 'This joke plays on the idea of a pizza having \"toppings\" like a person might have \"issues\" or \"problems.\" In this case, the pizza is portrayed as needing therapy because it has too many toppings, causing it stress or pressure. The juxtaposition of a pizza seeking therapy adds humor to the situation.'}),), interrupts=()),\n",
       " StateSnapshot(values={'topic': 'pizza', 'joke': 'Why did the pizza go to the doctor? Because it was feeling a little crusty!', 'explanation': 'This joke plays on the double meaning of the word \"crusty.\" In one sense, it can mean having a hard, dry surface like the crust of a pizza. In another sense, it can mean feeling irritable or grumpy. By saying that the pizza went to the doctor because it was feeling \"crusty,\" the joke is suggesting that the pizza was not only physically crusty but also in a bad mood. This creates a silly and playful image of a pizza seeking medical help for its physical and emotional state.'}, next=(), config={'configurable': {'thread_id': '1', 'checkpoint_ns': '', 'checkpoint_id': '1f0a1fd4-570e-648d-8002-f85918f1b19c'}}, metadata={'source': 'loop', 'step': 2, 'parents': {}}, created_at='2025-10-05T15:09:21.230964+00:00', parent_config={'configurable': {'thread_id': '1', 'checkpoint_ns': '', 'checkpoint_id': '1f0a1fd4-4937-68b8-8001-f99da3e96f3b'}}, tasks=(), interrupts=()),\n",
       " StateSnapshot(values={'topic': 'pizza', 'joke': 'Why did the pizza go to the doctor? Because it was feeling a little crusty!'}, next=('generate_explanation',), config={'configurable': {'thread_id': '1', 'checkpoint_ns': '', 'checkpoint_id': '1f0a1fd4-4937-68b8-8001-f99da3e96f3b'}}, metadata={'source': 'loop', 'step': 1, 'parents': {}}, created_at='2025-10-05T15:09:19.779858+00:00', parent_config={'configurable': {'thread_id': '1', 'checkpoint_ns': '', 'checkpoint_id': '1f0a1fd4-3c07-673c-8000-fbdc4334050e'}}, tasks=(PregelTask(id='4883e0b5-6708-f0ec-0750-f214940f5fc1', name='generate_explanation', path=('__pregel_pull', 'generate_explanation'), error=None, interrupts=(), state=None, result={'explanation': 'This joke plays on the double meaning of the word \"crusty.\" In one sense, it can mean having a hard, dry surface like the crust of a pizza. In another sense, it can mean feeling irritable or grumpy. By saying that the pizza went to the doctor because it was feeling \"crusty,\" the joke is suggesting that the pizza was not only physically crusty but also in a bad mood. This creates a silly and playful image of a pizza seeking medical help for its physical and emotional state.'}),), interrupts=()),\n",
       " StateSnapshot(values={'topic': 'pizza'}, next=('generate_joke',), config={'configurable': {'thread_id': '1', 'checkpoint_ns': '', 'checkpoint_id': '1f0a1fd4-3c07-673c-8000-fbdc4334050e'}}, metadata={'source': 'loop', 'step': 0, 'parents': {}}, created_at='2025-10-05T15:09:18.397010+00:00', parent_config={'configurable': {'thread_id': '1', 'checkpoint_ns': '', 'checkpoint_id': '1f0a1fd4-3bd9-60fd-bfff-395af157350e'}}, tasks=(PregelTask(id='a38e26b0-6272-5bdd-48b3-12bb0ecd3acb', name='generate_joke', path=('__pregel_pull', 'generate_joke'), error=None, interrupts=(), state=None, result={'joke': 'Why did the pizza go to the doctor? Because it was feeling a little crusty!'}),), interrupts=()),\n",
       " StateSnapshot(values={}, next=('__start__',), config={'configurable': {'thread_id': '1', 'checkpoint_ns': '', 'checkpoint_id': '1f0a1fd4-3bd9-60fd-bfff-395af157350e'}}, metadata={'source': 'input', 'step': -1, 'parents': {}}, created_at='2025-10-05T15:09:18.378009+00:00', parent_config=None, tasks=(PregelTask(id='26cd8ef8-6119-50bc-ec6c-bebe99fb0158', name='__start__', path=('__pregel_pull', '__start__'), error=None, interrupts=(), state=None, result={'topic': 'pizza'}),), interrupts=())]"
      ]
     },
     "execution_count": 21,
     "metadata": {},
     "output_type": "execute_result"
    }
   ],
   "source": [
    "list(workflow.get_state_history(config1))\n"
   ]
  },
  {
   "cell_type": "code",
   "execution_count": 22,
   "id": "90487c8a",
   "metadata": {},
   "outputs": [
    {
     "data": {
      "text/plain": [
       "{'topic': 'samosa',\n",
       " 'joke': 'Why did the samosa go to the party? \\nBecause it wanted to be the life of the snack table!',\n",
       " 'explanation': 'This joke plays on the idea of the samosa, a popular Indian snack, wanting to be the center of attention at a party. By saying it wanted to be the life of the snack table, the joke suggests that the samosa wanted to be the most popular and enjoyed snack at the party, bringing humor to the idea of a snack having a social life and personality.'}"
      ]
     },
     "execution_count": 22,
     "metadata": {},
     "output_type": "execute_result"
    }
   ],
   "source": [
    "workflow.invoke(None, {\"configurable\": {\"thread_id\": \"1\", \"checkpoint_id\": \"1f0a2016-6c96-6552-8001-f506832654d3\"}})\n"
   ]
  },
  {
   "cell_type": "code",
   "execution_count": 23,
   "id": "1937b71e",
   "metadata": {},
   "outputs": [
    {
     "data": {
      "text/plain": [
       "[StateSnapshot(values={'topic': 'samosa', 'joke': 'Why did the samosa go to the party? \\nBecause it wanted to be the life of the snack table!', 'explanation': 'This joke plays on the idea of the samosa, a popular Indian snack, wanting to be the center of attention at a party. By saying it wanted to be the life of the snack table, the joke suggests that the samosa wanted to be the most popular and enjoyed snack at the party, bringing humor to the idea of a snack having a social life and personality.'}, next=(), config={'configurable': {'thread_id': '1', 'checkpoint_ns': '', 'checkpoint_id': '1f0a2018-5544-69fc-8003-5412a5350f0e'}}, metadata={'source': 'loop', 'step': 3, 'parents': {}}, created_at='2025-10-05T15:39:46.404607+00:00', parent_config={'configurable': {'thread_id': '1', 'checkpoint_ns': '', 'checkpoint_id': '1f0a2018-48a8-6eb0-8002-299f10274dda'}}, tasks=(), interrupts=()),\n",
       " StateSnapshot(values={'topic': 'samosa', 'joke': 'Why did the samosa go to the party? \\nBecause it wanted to be the life of the snack table!'}, next=('generate_explanation',), config={'configurable': {'thread_id': '1', 'checkpoint_ns': '', 'checkpoint_id': '1f0a2018-48a8-6eb0-8002-299f10274dda'}}, metadata={'source': 'loop', 'step': 2, 'parents': {}}, created_at='2025-10-05T15:39:45.082539+00:00', parent_config={'configurable': {'thread_id': '1', 'checkpoint_ns': '', 'checkpoint_id': '1f0a2016-6c96-6552-8001-f506832654d3'}}, tasks=(PregelTask(id='ca0449c3-e70a-40e1-c44f-13f4e6506530', name='generate_explanation', path=('__pregel_pull', 'generate_explanation'), error=None, interrupts=(), state=None, result={'explanation': 'This joke plays on the idea of the samosa, a popular Indian snack, wanting to be the center of attention at a party. By saying it wanted to be the life of the snack table, the joke suggests that the samosa wanted to be the most popular and enjoyed snack at the party, bringing humor to the idea of a snack having a social life and personality.'}),), interrupts=()),\n",
       " StateSnapshot(values={'topic': 'samosa'}, next=('generate_joke',), config={'configurable': {'thread_id': '1', 'checkpoint_ns': '', 'checkpoint_id': '1f0a2016-6c96-6552-8001-f506832654d3'}}, metadata={'source': 'update', 'step': 1, 'parents': {}}, created_at='2025-10-05T15:38:55.162709+00:00', parent_config={'configurable': {'thread_id': '1', 'checkpoint_ns': '', 'checkpoint_id': '1f0a1fd4-3c07-673c-8000-fbdc4334050e'}}, tasks=(PregelTask(id='e4aaacb3-325d-12bc-01ed-be98c9cfce39', name='generate_joke', path=('__pregel_pull', 'generate_joke'), error=None, interrupts=(), state=None, result={'joke': 'Why did the samosa go to the party? \\nBecause it wanted to be the life of the snack table!'}),), interrupts=()),\n",
       " StateSnapshot(values={'topic': 'samosa'}, next=('generate_joke',), config={'configurable': {'thread_id': '1', 'checkpoint_ns': '', 'checkpoint_id': '1f0a2010-cea2-63f4-8001-42b7d1dc41e8'}}, metadata={'source': 'update', 'step': 1, 'parents': {}}, created_at='2025-10-05T15:36:24.382360+00:00', parent_config={'configurable': {'thread_id': '1', 'checkpoint_ns': '', 'checkpoint_id': '1f0a1fd4-3c07-673c-8000-fbdc4334050e'}}, tasks=(PregelTask(id='ed6a461c-9923-6b8e-3c7d-e2877bd7a83c', name='generate_joke', path=('__pregel_pull', 'generate_joke'), error=None, interrupts=(), state=None, result=None),), interrupts=()),\n",
       " StateSnapshot(values={'topic': 'pizza', 'joke': \"Why did the pizza go to the therapist? Because it had too many toppings and couldn't handle the pressure!\", 'explanation': 'This joke plays on the idea of a pizza having \"toppings\" like a person might have \"issues\" or \"problems.\" In this case, the pizza is portrayed as needing therapy because it has too many toppings, causing it stress or pressure. The juxtaposition of a pizza seeking therapy adds humor to the situation.'}, next=(), config={'configurable': {'thread_id': '1', 'checkpoint_ns': '', 'checkpoint_id': '1f0a2010-0347-60ce-8002-9a98ee68c79f'}}, metadata={'source': 'loop', 'step': 2, 'parents': {}}, created_at='2025-10-05T15:36:03.058913+00:00', parent_config={'configurable': {'thread_id': '1', 'checkpoint_ns': '', 'checkpoint_id': '1f0a200f-f424-667f-8001-4a887df4d8b4'}}, tasks=(), interrupts=()),\n",
       " StateSnapshot(values={'topic': 'pizza', 'joke': \"Why did the pizza go to the therapist? Because it had too many toppings and couldn't handle the pressure!\"}, next=('generate_explanation',), config={'configurable': {'thread_id': '1', 'checkpoint_ns': '', 'checkpoint_id': '1f0a200f-f424-667f-8001-4a887df4d8b4'}}, metadata={'source': 'loop', 'step': 1, 'parents': {}}, created_at='2025-10-05T15:36:01.471859+00:00', parent_config={'configurable': {'thread_id': '1', 'checkpoint_ns': '', 'checkpoint_id': '1f0a1fd4-3c07-673c-8000-fbdc4334050e'}}, tasks=(PregelTask(id='d7ed46d7-e813-d18e-b085-6b18ce0006ae', name='generate_explanation', path=('__pregel_pull', 'generate_explanation'), error=None, interrupts=(), state=None, result={'explanation': 'This joke plays on the idea of a pizza having \"toppings\" like a person might have \"issues\" or \"problems.\" In this case, the pizza is portrayed as needing therapy because it has too many toppings, causing it stress or pressure. The juxtaposition of a pizza seeking therapy adds humor to the situation.'}),), interrupts=()),\n",
       " StateSnapshot(values={'topic': 'pizza', 'joke': 'Why did the pizza go to the doctor? Because it was feeling a little crusty!', 'explanation': 'This joke plays on the double meaning of the word \"crusty.\" In one sense, it can mean having a hard, dry surface like the crust of a pizza. In another sense, it can mean feeling irritable or grumpy. By saying that the pizza went to the doctor because it was feeling \"crusty,\" the joke is suggesting that the pizza was not only physically crusty but also in a bad mood. This creates a silly and playful image of a pizza seeking medical help for its physical and emotional state.'}, next=(), config={'configurable': {'thread_id': '1', 'checkpoint_ns': '', 'checkpoint_id': '1f0a1fd4-570e-648d-8002-f85918f1b19c'}}, metadata={'source': 'loop', 'step': 2, 'parents': {}}, created_at='2025-10-05T15:09:21.230964+00:00', parent_config={'configurable': {'thread_id': '1', 'checkpoint_ns': '', 'checkpoint_id': '1f0a1fd4-4937-68b8-8001-f99da3e96f3b'}}, tasks=(), interrupts=()),\n",
       " StateSnapshot(values={'topic': 'pizza', 'joke': 'Why did the pizza go to the doctor? Because it was feeling a little crusty!'}, next=('generate_explanation',), config={'configurable': {'thread_id': '1', 'checkpoint_ns': '', 'checkpoint_id': '1f0a1fd4-4937-68b8-8001-f99da3e96f3b'}}, metadata={'source': 'loop', 'step': 1, 'parents': {}}, created_at='2025-10-05T15:09:19.779858+00:00', parent_config={'configurable': {'thread_id': '1', 'checkpoint_ns': '', 'checkpoint_id': '1f0a1fd4-3c07-673c-8000-fbdc4334050e'}}, tasks=(PregelTask(id='4883e0b5-6708-f0ec-0750-f214940f5fc1', name='generate_explanation', path=('__pregel_pull', 'generate_explanation'), error=None, interrupts=(), state=None, result={'explanation': 'This joke plays on the double meaning of the word \"crusty.\" In one sense, it can mean having a hard, dry surface like the crust of a pizza. In another sense, it can mean feeling irritable or grumpy. By saying that the pizza went to the doctor because it was feeling \"crusty,\" the joke is suggesting that the pizza was not only physically crusty but also in a bad mood. This creates a silly and playful image of a pizza seeking medical help for its physical and emotional state.'}),), interrupts=()),\n",
       " StateSnapshot(values={'topic': 'pizza'}, next=('generate_joke',), config={'configurable': {'thread_id': '1', 'checkpoint_ns': '', 'checkpoint_id': '1f0a1fd4-3c07-673c-8000-fbdc4334050e'}}, metadata={'source': 'loop', 'step': 0, 'parents': {}}, created_at='2025-10-05T15:09:18.397010+00:00', parent_config={'configurable': {'thread_id': '1', 'checkpoint_ns': '', 'checkpoint_id': '1f0a1fd4-3bd9-60fd-bfff-395af157350e'}}, tasks=(PregelTask(id='a38e26b0-6272-5bdd-48b3-12bb0ecd3acb', name='generate_joke', path=('__pregel_pull', 'generate_joke'), error=None, interrupts=(), state=None, result={'joke': 'Why did the pizza go to the doctor? Because it was feeling a little crusty!'}),), interrupts=()),\n",
       " StateSnapshot(values={}, next=('__start__',), config={'configurable': {'thread_id': '1', 'checkpoint_ns': '', 'checkpoint_id': '1f0a1fd4-3bd9-60fd-bfff-395af157350e'}}, metadata={'source': 'input', 'step': -1, 'parents': {}}, created_at='2025-10-05T15:09:18.378009+00:00', parent_config=None, tasks=(PregelTask(id='26cd8ef8-6119-50bc-ec6c-bebe99fb0158', name='__start__', path=('__pregel_pull', '__start__'), error=None, interrupts=(), state=None, result={'topic': 'pizza'}),), interrupts=())]"
      ]
     },
     "execution_count": 23,
     "metadata": {},
     "output_type": "execute_result"
    }
   ],
   "source": [
    "list(workflow.get_state_history(config1))\n"
   ]
  }
 ],
 "metadata": {
  "kernelspec": {
   "display_name": "Python 3",
   "language": "python",
   "name": "python3"
  },
  "language_info": {
   "codemirror_mode": {
    "name": "ipython",
    "version": 3
   },
   "file_extension": ".py",
   "mimetype": "text/x-python",
   "name": "python",
   "nbconvert_exporter": "python",
   "pygments_lexer": "ipython3",
   "version": "3.12.6"
  }
 },
 "nbformat": 4,
 "nbformat_minor": 5
}
