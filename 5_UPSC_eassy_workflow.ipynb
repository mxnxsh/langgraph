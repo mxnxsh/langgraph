{
 "cells": [
  {
   "cell_type": "code",
   "execution_count": 1,
   "id": "a444c281",
   "metadata": {},
   "outputs": [],
   "source": [
    "from langgraph.graph import StateGraph, START, END\n",
    "from langchain_openai import ChatOpenAI\n",
    "from dotenv import load_dotenv\n",
    "from typing import TypedDict , Annotated\n",
    "from pydantic import BaseModel, Field\n",
    "import operator"
   ]
  },
  {
   "cell_type": "code",
   "execution_count": 2,
   "id": "4f89eabf",
   "metadata": {},
   "outputs": [
    {
     "data": {
      "text/plain": [
       "True"
      ]
     },
     "execution_count": 2,
     "metadata": {},
     "output_type": "execute_result"
    }
   ],
   "source": [
    "load_dotenv()"
   ]
  },
  {
   "cell_type": "code",
   "execution_count": 3,
   "id": "e28d4da4",
   "metadata": {},
   "outputs": [],
   "source": [
    "model = ChatOpenAI(model=\"gpt-4o-mini\")"
   ]
  },
  {
   "cell_type": "code",
   "execution_count": 4,
   "id": "bfdd3b73",
   "metadata": {},
   "outputs": [],
   "source": [
    "class EvaluationSchema(BaseModel):\n",
    "    feedback: str = Field(description=\"Detailed feedback on the essay\")\n",
    "    score: int = Field(description=\"The score out of 10\", ge=0, le=10)"
   ]
  },
  {
   "cell_type": "code",
   "execution_count": 5,
   "id": "7e3069ab",
   "metadata": {},
   "outputs": [],
   "source": [
    "structured_model = model.with_structured_output(EvaluationSchema)"
   ]
  },
  {
   "cell_type": "code",
   "execution_count": 6,
   "id": "d811ea24",
   "metadata": {},
   "outputs": [],
   "source": [
    "essay = \"\"\"India in the Age of AI\n",
    "As the world enters a transformative era defined by artificial intelligence (AI), India stands at a critical juncture — one where it can either emerge as a global leader in AI innovation or risk falling behind in the technology race. The age of AI brings with it immense promise as well as unprecedented challenges, and how India navigates this landscape will shape its socio-economic and geopolitical future.\n",
    "\n",
    "India's strengths in the AI domain are rooted in its vast pool of skilled engineers, a thriving IT industry, and a growing startup ecosystem. With over 5 million STEM graduates annually and a burgeoning base of AI researchers, India possesses the intellectual capital required to build cutting-edge AI systems. Institutions like IITs, IIITs, and IISc have begun fostering AI research, while private players such as TCS, Infosys, and Wipro are integrating AI into their global services. In 2020, the government launched the National AI Strategy (AI for All) with a focus on inclusive growth, aiming to leverage AI in healthcare, agriculture, education, and smart mobility.\n",
    "\n",
    "One of the most promising applications of AI in India lies in agriculture, where predictive analytics can guide farmers on optimal sowing times, weather forecasts, and pest control. In healthcare, AI-powered diagnostics can help address India’s doctor-patient ratio crisis, particularly in rural areas. Educational platforms are increasingly using AI to personalize learning paths, while smart governance tools are helping improve public service delivery and fraud detection.\n",
    "\n",
    "However, the path to AI-led growth is riddled with challenges. Chief among them is the digital divide. While metropolitan cities may embrace AI-driven solutions, rural India continues to struggle with basic internet access and digital literacy. The risk of job displacement due to automation also looms large, especially for low-skilled workers. Without effective skilling and re-skilling programs, AI could exacerbate existing socio-economic inequalities.\n",
    "\n",
    "Another pressing concern is data privacy and ethics. As AI systems rely heavily on vast datasets, ensuring that personal data is used transparently and responsibly becomes vital. India is still shaping its data protection laws, and in the absence of a strong regulatory framework, AI systems may risk misuse or bias.\n",
    "\n",
    "To harness AI responsibly, India must adopt a multi-stakeholder approach involving the government, academia, industry, and civil society. Policies should promote open datasets, encourage responsible innovation, and ensure ethical AI practices. There is also a need for international collaboration, particularly with countries leading in AI research, to gain strategic advantage and ensure interoperability in global systems.\n",
    "\n",
    "India’s demographic dividend, when paired with responsible AI adoption, can unlock massive economic growth, improve governance, and uplift marginalized communities. But this vision will only materialize if AI is seen not merely as a tool for automation, but as an enabler of human-centered development.\n",
    "\n",
    "In conclusion, India in the age of AI is a story in the making — one of opportunity, responsibility, and transformation. The decisions we make today will not just determine India’s AI trajectory, but also its future as an inclusive, equitable, and innovation-driven society.\"\"\""
   ]
  },
  {
   "cell_type": "code",
   "execution_count": 7,
   "id": "a00ab44c",
   "metadata": {},
   "outputs": [
    {
     "name": "stdout",
     "output_type": "stream",
     "text": [
      "8\n"
     ]
    }
   ],
   "source": [
    "prompt = f'Evaluate the language quality of the following essay and provide a feedback and assign a score out of 10 \\n {essay}'\n",
    "\n",
    "output = structured_model.invoke(prompt)\n",
    "\n",
    "print(output.score)"
   ]
  },
  {
   "cell_type": "code",
   "execution_count": 8,
   "id": "cadef0c0",
   "metadata": {},
   "outputs": [],
   "source": [
    "class UPSCState(TypedDict):\n",
    "\n",
    "    essay: str\n",
    "    language_feedback: str\n",
    "    analysis_feedback: str\n",
    "    clarity_feedback: str\n",
    "    overall_feedback: str\n",
    "    individual_scores: Annotated[list[int], operator.add]\n",
    "    avg_score: float"
   ]
  },
  {
   "cell_type": "code",
   "execution_count": 9,
   "id": "7f055126",
   "metadata": {},
   "outputs": [],
   "source": [
    "def evaluate_language(state: UPSCState):\n",
    "\n",
    "    prompt = f'Evaluate the language quality of the following essay and provide a feedback and assign a score out of 10 \\n {state[\"essay\"]}'\n",
    "    output = structured_model.invoke(prompt)\n",
    "\n",
    "    return {'language_feedback': output.feedback, 'individual_scores': [output.score]}"
   ]
  },
  {
   "cell_type": "code",
   "execution_count": 10,
   "id": "6f7d0058",
   "metadata": {},
   "outputs": [],
   "source": [
    "def evaluate_analysis(state: UPSCState):\n",
    "\n",
    "    prompt = f'Evaluate the depth of analysis of the following essay and provide a feedback and assign a score out of 10 \\n {state[\"essay\"]}'\n",
    "    output = structured_model.invoke(prompt)\n",
    "\n",
    "    return {'analysis_feedback': output.feedback, 'individual_scores': [output.score]}"
   ]
  },
  {
   "cell_type": "code",
   "execution_count": 11,
   "id": "d6a4a42e",
   "metadata": {},
   "outputs": [],
   "source": [
    "def evaluate_thought(state: UPSCState):\n",
    "\n",
    "    prompt = f'Evaluate the clarity of thought of the following essay and provide a feedback and assign a score out of 10 \\n {state[\"essay\"]}'\n",
    "    output = structured_model.invoke(prompt)\n",
    "\n",
    "    return {'clarity_feedback': output.feedback, 'individual_scores': [output.score]}"
   ]
  },
  {
   "cell_type": "code",
   "execution_count": 12,
   "id": "6fc136c8",
   "metadata": {},
   "outputs": [],
   "source": [
    "def final_evaluation(state: UPSCState):\n",
    "\n",
    "    # summary feedback\n",
    "    prompt = f'Based on the following feedbacks create a summarized feedback \\n language feedback - {state[\"language_feedback\"]} \\n depth of analysis feedback - {state[\"analysis_feedback\"]} \\n clarity of thought feedback - {state[\"clarity_feedback\"]}'\n",
    "    overall_feedback = model.invoke(prompt).content\n",
    "\n",
    "    # avg calculate\n",
    "    avg_score = sum(state['individual_scores'])/len(state['individual_scores'])\n",
    "\n",
    "    return {'overall_feedback': overall_feedback, 'avg_score': avg_score}"
   ]
  },
  {
   "cell_type": "code",
   "execution_count": 13,
   "id": "d69e7957",
   "metadata": {},
   "outputs": [],
   "source": [
    "graph = StateGraph(UPSCState)\n",
    "\n",
    "# Add nodes to the graph\n",
    "graph.add_node('evaluate_language', evaluate_language)\n",
    "graph.add_node('evaluate_analysis', evaluate_analysis)\n",
    "graph.add_node('evaluate_thought', evaluate_thought)\n",
    "graph.add_node('final_evaluation', final_evaluation)\n",
    "\n",
    "# Add edges to connect the nodes\n",
    "graph.add_edge(START, 'evaluate_language')\n",
    "graph.add_edge(START, 'evaluate_analysis')\n",
    "graph.add_edge(START, 'evaluate_thought')\n",
    "graph.add_edge('evaluate_language', 'final_evaluation')\n",
    "graph.add_edge('evaluate_analysis', 'final_evaluation')\n",
    "graph.add_edge('evaluate_thought', 'final_evaluation')\n",
    "graph.add_edge('final_evaluation', END)\n",
    "\n",
    "# compile the graph\n",
    "workflow = graph.compile()\n",
    "\n"
   ]
  },
  {
   "cell_type": "code",
   "execution_count": 14,
   "id": "a938c8e0",
   "metadata": {},
   "outputs": [
    {
     "data": {
      "image/png": "[encoded data removed]",
      "text/plain": [
       "<langgraph.graph.state.CompiledStateGraph object at 0x0000022AA38FF140>"
      ]
     },
     "execution_count": 14,
     "metadata": {},
     "output_type": "execute_result"
    }
   ],
   "source": [
    "workflow"
   ]
  },
  {
   "cell_type": "code",
   "execution_count": 15,
   "id": "0f7619af",
   "metadata": {},
   "outputs": [
    {
     "data": {
      "text/plain": [
       "{'essay': \"India in the Age of AI\\nAs the world enters a transformative era defined by artificial intelligence (AI), India stands at a critical juncture — one where it can either emerge as a global leader in AI innovation or risk falling behind in the technology race. The age of AI brings with it immense promise as well as unprecedented challenges, and how India navigates this landscape will shape its socio-economic and geopolitical future.\\n\\nIndia's strengths in the AI domain are rooted in its vast pool of skilled engineers, a thriving IT industry, and a growing startup ecosystem. With over 5 million STEM graduates annually and a burgeoning base of AI researchers, India possesses the intellectual capital required to build cutting-edge AI systems. Institutions like IITs, IIITs, and IISc have begun fostering AI research, while private players such as TCS, Infosys, and Wipro are integrating AI into their global services. In 2020, the government launched the National AI Strategy (AI for All) with a focus on inclusive growth, aiming to leverage AI in healthcare, agriculture, education, and smart mobility.\\n\\nOne of the most promising applications of AI in India lies in agriculture, where predictive analytics can guide farmers on optimal sowing times, weather forecasts, and pest control. In healthcare, AI-powered diagnostics can help address India’s doctor-patient ratio crisis, particularly in rural areas. Educational platforms are increasingly using AI to personalize learning paths, while smart governance tools are helping improve public service delivery and fraud detection.\\n\\nHowever, the path to AI-led growth is riddled with challenges. Chief among them is the digital divide. While metropolitan cities may embrace AI-driven solutions, rural India continues to struggle with basic internet access and digital literacy. The risk of job displacement due to automation also looms large, especially for low-skilled workers. Without effective skilling and re-skilling programs, AI could exacerbate existing socio-economic inequalities.\\n\\nAnother pressing concern is data privacy and ethics. As AI systems rely heavily on vast datasets, ensuring that personal data is used transparently and responsibly becomes vital. India is still shaping its data protection laws, and in the absence of a strong regulatory framework, AI systems may risk misuse or bias.\\n\\nTo harness AI responsibly, India must adopt a multi-stakeholder approach involving the government, academia, industry, and civil society. Policies should promote open datasets, encourage responsible innovation, and ensure ethical AI practices. There is also a need for international collaboration, particularly with countries leading in AI research, to gain strategic advantage and ensure interoperability in global systems.\\n\\nIndia’s demographic dividend, when paired with responsible AI adoption, can unlock massive economic growth, improve governance, and uplift marginalized communities. But this vision will only materialize if AI is seen not merely as a tool for automation, but as an enabler of human-centered development.\\n\\nIn conclusion, India in the age of AI is a story in the making — one of opportunity, responsibility, and transformation. The decisions we make today will not just determine India’s AI trajectory, but also its future as an inclusive, equitable, and innovation-driven society.\",\n",
       " 'language_feedback': \"The essay showcases a clear understanding of the importance of AI in India's future, and it presents a well-structured argument on both the potential benefits and challenges of AI implementation in the country. The language is predominantly formal, suitable for an academic or analytical piece, and it avoids colloquialisms. The use of transitional phrases effectively links ideas and maintains a logical flow throughout the essay. However, there are some areas for improvement: \\n\\n1. **Clarity and Conciseness**: Certain sentences could be made more concise without losing meaning, enhancing readability. For instance, complex phrases like 'where it can either emerge as a global leader in AI innovation or risk falling behind in the technology race' could be simplified.\\n\\n2. **Examples and Evidence**: While the essay mentions several important institutions and strategies, providing specific data or case studies about successful AI implementations in India would strengthen the argument significantly.\\n\\n3. **Conclusion Strength**: The ending could be more impactful. A stronger call to action or a more vivid scenario of a possible future could leave a lasting impression on the reader.\\n\\n4. **Grammar and Syntax**: Overall, grammar is strong, but there are minor instances where sentence structures could be improved for better clarity.\\n\\nIn summary, this essay successfully communicates the key issues related to AI in India with depth and nuance, but it would benefit from clearer phrasing, enhancing examples, and a more powerful conclusion. Overall, a solid essay that effectively addresses its topic.\",\n",
       " 'analysis_feedback': \"The essay provides a well-rounded overview of the potential impacts of AI on India, addressing both the strengths and challenges the country faces. It effectively highlights India's capabilities in skilled labor, education, and government initiatives. The examples of AI applications in agriculture, healthcare, and education are pertinent and show an understanding of real-world implications. However, the analysis could benefit from a deeper exploration of the ethical concerns related to AI in India, particularly regarding governance and implementation. Additionally, while the essay mentions the digital divide, it would strengthen the argument to explore specific policies or case studies that could mitigate this gap. The call for a multi-stakeholder approach is commendable, but concrete examples or recommendations could enhance the action-oriented aspect of the conclusion.\",\n",
       " 'clarity_feedback': \"The essay presents a clear and organized analysis of the opportunities and challenges associated with AI in India. The introduction effectively outlines the significance of the topic, and each section logically progresses from India's strengths in AI to its potential applications and the challenges faced. However, while the content is informative, some arguments could be more elaborated. For instance, the section on data privacy and ethics introduces important issues but may benefit from examples or case studies to illustrate these points more vividly. Additionally, while the conclusion emphasizes the transformational potential of AI, it could reiterate specific actionable recommendations for achieving responsible AI adoption. Overall, the clarity of thought is strong, though the depth of discussion in some areas could be improved. Overall, the essay is well-structured and cohesive, leading to a solid understanding of India's position in the AI landscape.\",\n",
       " 'overall_feedback': \"**Summarized Feedback:**\\n\\nThe essay demonstrates a strong understanding of the role of AI in India's future, presenting a well-structured argument that balances its benefits and challenges. The language is formal and suitable for an academic audience, with effective use of transitional phrases that maintain a logical flow. However, there are several areas for improvement:\\n\\n1. **Clarity and Conciseness**: Some sentences could be streamlined for better readability. Simplifying complex phrases will enhance clarity.\\n\\n2. **Examples and Evidence**: Incorporating specific data or case studies of successful AI implementations in India would bolster the arguments presented.\\n\\n3. **Conclusion Strength**: The conclusion could be made more impactful with a stronger call to action or a vivid depiction of a possible future scenario.\\n\\n4. **Depth of Analysis**: While the essay effectively addresses India's strengths and challenges regarding AI, it could benefit from a deeper exploration of ethical concerns and specific policies to bridge the digital divide.\\n\\n5. **Clarity of Thought**: The analysis is clear and organized, but some points, such as data privacy and ethics, could be elaborated with examples. The conclusion should reiterate actionable recommendations for responsible AI adoption.\\n\\nIn summary, the essay addresses key issues surrounding AI in India effectively, but enhancements in clarity, depth of analysis, and conclusion impact would elevate its overall quality.\",\n",
       " 'individual_scores': [8, 8, 8],\n",
       " 'avg_score': 8.0}"
      ]
     },
     "execution_count": 15,
     "metadata": {},
     "output_type": "execute_result"
    }
   ],
   "source": [
    "initial_state = {\n",
    "    'essay': essay\n",
    "}\n",
    "\n",
    "workflow.invoke(initial_state)  # Invoke the workflow with the initial state"
   ]
  }
 ],
 "metadata": {
  "kernelspec": {
   "display_name": "Python 3",
   "language": "python",
   "name": "python3"
  },
  "language_info": {
   "codemirror_mode": {
    "name": "ipython",
    "version": 3
   },
   "file_extension": ".py",
   "mimetype": "text/x-python",
   "name": "python",
   "nbconvert_exporter": "python",
   "pygments_lexer": "ipython3",
   "version": "3.12.6"
  }
 },
 "nbformat": 4,
 "nbformat_minor": 5
}
