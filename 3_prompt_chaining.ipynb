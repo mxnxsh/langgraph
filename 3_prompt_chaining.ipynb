{
 "cells": [
  {
   "cell_type": "code",
   "execution_count": 59,
   "id": "299a7f77",
   "metadata": {},
   "outputs": [],
   "source": [
    "from langgraph.graph import StateGraph, START, END\n",
    "from langchain_openai import ChatOpenAI\n",
    "from typing import TypedDict\n",
    "from dotenv import load_dotenv"
   ]
  },
  {
   "cell_type": "code",
   "execution_count": 60,
   "id": "caacae6a",
   "metadata": {},
   "outputs": [
    {
     "data": {
      "text/plain": [
       "True"
      ]
     },
     "execution_count": 60,
     "metadata": {},
     "output_type": "execute_result"
    }
   ],
   "source": [
    "load_dotenv()"
   ]
  },
  {
   "cell_type": "code",
   "execution_count": 61,
   "id": "dbf98018",
   "metadata": {},
   "outputs": [],
   "source": [
    "model = ChatOpenAI()"
   ]
  },
  {
   "cell_type": "code",
   "execution_count": 62,
   "id": "e86a47ca",
   "metadata": {},
   "outputs": [],
   "source": [
    "class BlogState(TypedDict):\n",
    "    title: str\n",
    "    outline: str\n",
    "    content: str\n",
    "    evaluate: int | str | None"
   ]
  },
  {
   "cell_type": "code",
   "execution_count": 63,
   "id": "a2a3fc37",
   "metadata": {},
   "outputs": [],
   "source": [
    "def create_outline(state: BlogState) -> BlogState:\n",
    "    title = state['title']\n",
    "    prompt = f\"Create an outline for a blog post titled: {title}\"\n",
    "    \n",
    "    outline = model.invoke(prompt).content\n",
    "    state['outline'] = outline\n",
    "    \n",
    "    return state"
   ]
  },
  {
   "cell_type": "code",
   "execution_count": 64,
   "id": "7eb3e64d",
   "metadata": {},
   "outputs": [],
   "source": [
    "def create_blog(state: BlogState) -> BlogState:\n",
    "    outline = state['outline']\n",
    "    prompt = f\"Write a blog post based on the following outline:\\n{outline}\"\n",
    "    \n",
    "    content = model.invoke(prompt).content\n",
    "    state['content'] = content\n",
    "    \n",
    "    return state"
   ]
  },
  {
   "cell_type": "code",
   "execution_count": 65,
   "id": "03420d5b",
   "metadata": {},
   "outputs": [],
   "source": [
    "def evaluate_blog(state: BlogState) -> BlogState:\n",
    "    content = state['outline']\n",
    "    prompt = f\"Base on this ouline: \\n{content}\\nRate it on a scale of 1 to 10.\"\n",
    "    \n",
    "    evaluation = model.invoke(prompt).content\n",
    "    # Extract the first integer from the response\n",
    "    import re\n",
    "    match = re.search(r'\\d+', evaluation)\n",
    "    if match:\n",
    "        state['evaluate'] = int(match.group(0))\n",
    "    else:\n",
    "        state['evaluate'] = None\n",
    "    return state"
   ]
  },
  {
   "cell_type": "code",
   "execution_count": 66,
   "id": "a43dbcd6",
   "metadata": {},
   "outputs": [],
   "source": [
    "graph = StateGraph(BlogState)\n",
    "\n",
    "graph.add_node('create_outline',create_outline)\n",
    "graph.add_node('create_blog',create_blog)\n",
    "graph.add_node('evaluate_blog', evaluate_blog)\n",
    "\n",
    "\n",
    "graph.add_edge(START, 'create_outline')\n",
    "graph.add_edge('create_outline', 'create_blog') \n",
    "graph.add_edge('create_blog', 'evaluate_blog')\n",
    "graph.add_edge('evaluate_blog', END)\n",
    "\n",
    "workflow = graph.compile()"
   ]
  },
  {
   "cell_type": "code",
   "execution_count": 67,
   "id": "2e9ee032",
   "metadata": {},
   "outputs": [
    {
     "name": "stdout",
     "output_type": "stream",
     "text": [
      "{'title': 'The Future of AI in Everyday Life', 'outline': \"I. Introduction\\n   A. Brief overview of artificial intelligence (AI) \\n   B. Explanation of AI's increasing presence in everyday life \\n\\nII. Current applications of AI in everyday life\\n   A. Virtual assistants like Siri and Alexa \\n   B. Recommendations on streaming services and shopping websites \\n   C. Smart home devices like thermostats and security systems \\n\\nIII. Future potential applications of AI in everyday life\\n   A. Personalized healthcare and medical diagnostics \\n   B. Autonomous vehicles and transportation systems \\n   C. Enhanced education and learning experiences \\n   D. AI-powered entertainment and content creation \\n\\nIV. Ethical considerations and challenges \\n   A. Privacy concerns and data security \\n   B. Bias and discrimination in AI algorithms \\n   C. Impact on job displacement and workforce changes \\n\\nV. Opportunities for advancements and innovation \\n   A. Collaboration between industries and researchers \\n   B. Investment in AI education and training \\n   C. Regulation and policy development to address ethical issues \\n\\nVI. Conclusion\\n   A. Recap of the benefits and challenges of AI in everyday life \\n   B. Encouragement for continued exploration and development of AI technologies in a responsible manner.\", 'content': \"In today's world, artificial intelligence (AI) is no longer just a futuristic concept from science fiction movies. It has become an integral part of our everyday lives, with its presence in various applications and technologies continuing to grow. From virtual assistants like Siri and Alexa to personalized recommendations on streaming services and shopping websites, AI is revolutionizing the way we interact with technology and enhancing our day-to-day experiences.\\n\\nThe current applications of AI in everyday life are vast and diverse. Virtual assistants have become a staple in many households, providing quick answers to questions, setting reminders, and controlling smart home devices. Recommendations on streaming services and shopping websites use AI algorithms to analyze user data and preferences, offering personalized suggestions for entertainment and shopping. Smart home devices like thermostats and security systems use AI to learn and adapt to users' habits and behaviors, making homes more efficient and secure.\\n\\nLooking towards the future, the potential applications of AI in everyday life are even more exciting. Personalized healthcare and medical diagnostics could revolutionize the way we receive treatment and make healthcare more accessible and efficient. Autonomous vehicles and transportation systems powered by AI have the potential to reduce accidents and traffic congestion, making transportation safer and more sustainable. Enhanced education and learning experiences through AI could personalize learning for students and improve educational outcomes. AI-powered entertainment and content creation could create new forms of media and storytelling that captivate audiences in new ways.\\n\\nHowever, with the benefits of AI also come ethical considerations and challenges that need to be addressed. Privacy concerns and data security are top of mind for many, as AI systems collect and analyze vast amounts of personal data. Bias and discrimination in AI algorithms can perpetuate existing inequalities and injustices in society. The impact of AI on job displacement and changes in the workforce is also a concern, as automation could disrupt traditional job roles and require new skills and training for workers.\\n\\nAs we navigate the opportunities and challenges of AI in everyday life, there are areas for advancements and innovation that can help us harness the full potential of this technology. Collaboration between industries and researchers can drive new advancements in AI and ensure its responsible deployment. Investment in AI education and training can help prepare the workforce for the future of work in an AI-driven world. Regulation and policy development are essential to address ethical issues and ensure that AI is used in a way that benefits society as a whole.\\n\\nIn conclusion, AI has the power to transform our lives in ways we cannot imagine. By understanding the benefits and challenges of AI in everyday life, we can continue to explore and develop AI technologies in a responsible manner. It is important to approach AI with caution and care, ensuring that it is used to improve the lives of all individuals and create a more equitable and sustainable future.\", 'evaluate': 8}\n"
     ]
    }
   ],
   "source": [
    "initial_state = {'title': 'The Future of AI in Everyday Life'}\n",
    "\n",
    "final_state = workflow.invoke(initial_state)\n",
    "\n",
    "print(final_state)  # Output should include the blog content based on the title"
   ]
  },
  {
   "cell_type": "code",
   "execution_count": 68,
   "id": "54b6ac67",
   "metadata": {},
   "outputs": [
    {
     "name": "stdout",
     "output_type": "stream",
     "text": [
      "I. Introduction\n",
      "   A. Brief overview of artificial intelligence (AI) \n",
      "   B. Explanation of AI's increasing presence in everyday life \n",
      "\n",
      "II. Current applications of AI in everyday life\n",
      "   A. Virtual assistants like Siri and Alexa \n",
      "   B. Recommendations on streaming services and shopping websites \n",
      "   C. Smart home devices like thermostats and security systems \n",
      "\n",
      "III. Future potential applications of AI in everyday life\n",
      "   A. Personalized healthcare and medical diagnostics \n",
      "   B. Autonomous vehicles and transportation systems \n",
      "   C. Enhanced education and learning experiences \n",
      "   D. AI-powered entertainment and content creation \n",
      "\n",
      "IV. Ethical considerations and challenges \n",
      "   A. Privacy concerns and data security \n",
      "   B. Bias and discrimination in AI algorithms \n",
      "   C. Impact on job displacement and workforce changes \n",
      "\n",
      "V. Opportunities for advancements and innovation \n",
      "   A. Collaboration between industries and researchers \n",
      "   B. Investment in AI education and training \n",
      "   C. Regulation and policy development to address ethical issues \n",
      "\n",
      "VI. Conclusion\n",
      "   A. Recap of the benefits and challenges of AI in everyday life \n",
      "   B. Encouragement for continued exploration and development of AI technologies in a responsible manner.\n"
     ]
    }
   ],
   "source": [
    "print(final_state['outline'])  # Print the generated blog content"
   ]
  },
  {
   "cell_type": "code",
   "execution_count": 69,
   "id": "7b306830",
   "metadata": {},
   "outputs": [
    {
     "name": "stdout",
     "output_type": "stream",
     "text": [
      "In today's world, artificial intelligence (AI) is no longer just a futuristic concept from science fiction movies. It has become an integral part of our everyday lives, with its presence in various applications and technologies continuing to grow. From virtual assistants like Siri and Alexa to personalized recommendations on streaming services and shopping websites, AI is revolutionizing the way we interact with technology and enhancing our day-to-day experiences.\n",
      "\n",
      "The current applications of AI in everyday life are vast and diverse. Virtual assistants have become a staple in many households, providing quick answers to questions, setting reminders, and controlling smart home devices. Recommendations on streaming services and shopping websites use AI algorithms to analyze user data and preferences, offering personalized suggestions for entertainment and shopping. Smart home devices like thermostats and security systems use AI to learn and adapt to users' habits and behaviors, making homes more efficient and secure.\n",
      "\n",
      "Looking towards the future, the potential applications of AI in everyday life are even more exciting. Personalized healthcare and medical diagnostics could revolutionize the way we receive treatment and make healthcare more accessible and efficient. Autonomous vehicles and transportation systems powered by AI have the potential to reduce accidents and traffic congestion, making transportation safer and more sustainable. Enhanced education and learning experiences through AI could personalize learning for students and improve educational outcomes. AI-powered entertainment and content creation could create new forms of media and storytelling that captivate audiences in new ways.\n",
      "\n",
      "However, with the benefits of AI also come ethical considerations and challenges that need to be addressed. Privacy concerns and data security are top of mind for many, as AI systems collect and analyze vast amounts of personal data. Bias and discrimination in AI algorithms can perpetuate existing inequalities and injustices in society. The impact of AI on job displacement and changes in the workforce is also a concern, as automation could disrupt traditional job roles and require new skills and training for workers.\n",
      "\n",
      "As we navigate the opportunities and challenges of AI in everyday life, there are areas for advancements and innovation that can help us harness the full potential of this technology. Collaboration between industries and researchers can drive new advancements in AI and ensure its responsible deployment. Investment in AI education and training can help prepare the workforce for the future of work in an AI-driven world. Regulation and policy development are essential to address ethical issues and ensure that AI is used in a way that benefits society as a whole.\n",
      "\n",
      "In conclusion, AI has the power to transform our lives in ways we cannot imagine. By understanding the benefits and challenges of AI in everyday life, we can continue to explore and develop AI technologies in a responsible manner. It is important to approach AI with caution and care, ensuring that it is used to improve the lives of all individuals and create a more equitable and sustainable future.\n"
     ]
    }
   ],
   "source": [
    "print(final_state['content'])  # Print the generated blog content"
   ]
  },
  {
   "cell_type": "code",
   "execution_count": 70,
   "id": "d1195512",
   "metadata": {},
   "outputs": [
    {
     "name": "stdout",
     "output_type": "stream",
     "text": [
      "8\n"
     ]
    }
   ],
   "source": [
    "print(final_state['evaluate'])  # Print the generated blog content"
   ]
  }
 ],
 "metadata": {
  "kernelspec": {
   "display_name": "Python 3",
   "language": "python",
   "name": "python3"
  },
  "language_info": {
   "codemirror_mode": {
    "name": "ipython",
    "version": 3
   },
   "file_extension": ".py",
   "mimetype": "text/x-python",
   "name": "python",
   "nbconvert_exporter": "python",
   "pygments_lexer": "ipython3",
   "version": "3.12.6"
  }
 },
 "nbformat": 4,
 "nbformat_minor": 5
}
