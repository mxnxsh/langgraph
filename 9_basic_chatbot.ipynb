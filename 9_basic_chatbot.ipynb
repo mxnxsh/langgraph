{
 "cells": [
  {
   "cell_type": "code",
   "execution_count": 10,
   "id": "9d2546e7",
   "metadata": {},
   "outputs": [],
   "source": [
    "from langgraph.graph import StateGraph, START, END\n",
    "from typing import TypedDict, Literal, Annotated\n",
    "from langchain_openai import ChatOpenAI\n",
    "from langchain_core.messages import BaseMessage, HumanMessage\n",
    "from langgraph.checkpoint.memory import MemorySaver"
   ]
  },
  {
   "cell_type": "code",
   "execution_count": 2,
   "id": "3da500ee",
   "metadata": {},
   "outputs": [],
   "source": [
    "from langgraph.graph.message import add_messages\n",
    "\n",
    "class ChatState(TypedDict):\n",
    "\n",
    "  messages: Annotated[list[BaseMessage], add_messages]"
   ]
  },
  {
   "cell_type": "code",
   "execution_count": 3,
   "id": "ca1d39a5",
   "metadata": {},
   "outputs": [],
   "source": [
    "llm = ChatOpenAI()\n",
    "\n",
    "def chat_node(state: ChatState ):\n",
    "  # take user query from state\n",
    "  messages = state['messages']\n",
    "\n",
    "  # send to llm\n",
    "\n",
    "  response = llm.invoke(messages)\n",
    "\n",
    "  # response store state\n",
    "\n",
    "  return {'messages':[response]}"
   ]
  },
  {
   "cell_type": "code",
   "execution_count": 11,
   "id": "39462cb8",
   "metadata": {},
   "outputs": [],
   "source": [
    "checkpointer = MemorySaver()\n",
    "graph = StateGraph(ChatState)\n",
    "\n",
    "graph.add_node('chat_node', chat_node)\n",
    "\n",
    "graph.add_edge(START, 'chat_node')\n",
    "graph.add_edge('chat_node', END)\n",
    "\n",
    "chatbot = graph.compile(checkpointer = checkpointer)\n"
   ]
  },
  {
   "cell_type": "code",
   "execution_count": 5,
   "id": "b6b3fb7d",
   "metadata": {},
   "outputs": [
    {
     "data": {
      "image/png": "[encoded data removed]",
      "text/plain": [
       "<langgraph.graph.state.CompiledStateGraph object at 0x0000026C5D6D45F0>"
      ]
     },
     "execution_count": 5,
     "metadata": {},
     "output_type": "execute_result"
    }
   ],
   "source": [
    "chatbot"
   ]
  },
  {
   "cell_type": "code",
   "execution_count": 8,
   "id": "835e1cb8",
   "metadata": {},
   "outputs": [
    {
     "data": {
      "text/plain": [
       "'The capital of Argentina is Buenos Aires.'"
      ]
     },
     "execution_count": 8,
     "metadata": {},
     "output_type": "execute_result"
    }
   ],
   "source": [
    "initial_state = {\n",
    "  'messages': [HumanMessage(content='What is the captial of Argentina')]\n",
    "}\n",
    "\n",
    "chatbot.invoke(initial_state)['messages'][-1].content"
   ]
  },
  {
   "cell_type": "code",
   "execution_count": 12,
   "id": "28a50a81",
   "metadata": {},
   "outputs": [
    {
     "name": "stdout",
     "output_type": "stream",
     "text": [
      "User: hi my name is manish\n",
      "AI: Hello Manish! How can I assist you today?\n",
      "User: what is my name \n",
      "AI: Your name is Manish.\n",
      "User: can you add 10 to 100\n",
      "AI: Certainly! 10 + 100 = 110.\n",
      "User: now can you multiply the result with 2\n",
      "AI: Of course! 110 x 2 = 220.\n",
      "User: exit\n"
     ]
    }
   ],
   "source": [
    "thread_id = '1'\n",
    "\n",
    "while True:\n",
    "\n",
    "  user_message = input('Type here')\n",
    "\n",
    "  print(\"User:\",user_message)\n",
    "\n",
    "  if user_message.strip().lower() in ['exit','bye','quit']:\n",
    "    break\n",
    "\n",
    "  config = {'configurable':{'thread_id':thread_id}}\n",
    "\n",
    "  response = chatbot.invoke({'messages':HumanMessage(content=user_message)},config=config)\n",
    "  \n",
    "  print(\"AI:\",response['messages'][-1].content)"
   ]
  },
  {
   "cell_type": "code",
   "execution_count": 13,
   "id": "d826f50c",
   "metadata": {},
   "outputs": [
    {
     "data": {
      "text/plain": [
       "StateSnapshot(values={'messages': [HumanMessage(content='hi my name is manish', additional_kwargs={}, response_metadata={}, id='f4762aea-f59c-4f07-b648-da1720056ab0'), AIMessage(content='Hello Manish! How can I assist you today?', additional_kwargs={'refusal': None}, response_metadata={'token_usage': {'completion_tokens': 11, 'prompt_tokens': 13, 'total_tokens': 24, 'completion_tokens_details': {'accepted_prediction_tokens': 0, 'audio_tokens': 0, 'reasoning_tokens': 0, 'rejected_prediction_tokens': 0}, 'prompt_tokens_details': {'audio_tokens': 0, 'cached_tokens': 0}}, 'model_name': 'gpt-3.5-turbo-0125', 'system_fingerprint': None, 'id': 'chatcmpl-CNE5MDkJEojKComHfBYX8vINQ4iwD', 'service_tier': 'default', 'finish_reason': 'stop', 'logprobs': None}, id='run--6f508070-b824-41d3-b21a-b64c8204c0a1-0', usage_metadata={'input_tokens': 13, 'output_tokens': 11, 'total_tokens': 24, 'input_token_details': {'audio': 0, 'cache_read': 0}, 'output_token_details': {'audio': 0, 'reasoning': 0}}), HumanMessage(content='what is my name ', additional_kwargs={}, response_metadata={}, id='78093f8c-cae6-4544-b6b2-830d031e1425'), AIMessage(content='Your name is Manish.', additional_kwargs={'refusal': None}, response_metadata={'token_usage': {'completion_tokens': 6, 'prompt_tokens': 37, 'total_tokens': 43, 'completion_tokens_details': {'accepted_prediction_tokens': 0, 'audio_tokens': 0, 'reasoning_tokens': 0, 'rejected_prediction_tokens': 0}, 'prompt_tokens_details': {'audio_tokens': 0, 'cached_tokens': 0}}, 'model_name': 'gpt-3.5-turbo-0125', 'system_fingerprint': None, 'id': 'chatcmpl-CNE5Z7UaGNdXNvbKMHBpFzSm3zifi', 'service_tier': 'default', 'finish_reason': 'stop', 'logprobs': None}, id='run--cce36c48-7fa2-47a2-ba37-d7c53b4f57aa-0', usage_metadata={'input_tokens': 37, 'output_tokens': 6, 'total_tokens': 43, 'input_token_details': {'audio': 0, 'cache_read': 0}, 'output_token_details': {'audio': 0, 'reasoning': 0}}), HumanMessage(content='can you add 10 to 100', additional_kwargs={}, response_metadata={}, id='ec4bd02c-b292-42ae-8231-4f838c59bbec'), AIMessage(content='Certainly! 10 + 100 = 110.', additional_kwargs={'refusal': None}, response_metadata={'token_usage': {'completion_tokens': 11, 'prompt_tokens': 59, 'total_tokens': 70, 'completion_tokens_details': {'accepted_prediction_tokens': 0, 'audio_tokens': 0, 'reasoning_tokens': 0, 'rejected_prediction_tokens': 0}, 'prompt_tokens_details': {'audio_tokens': 0, 'cached_tokens': 0}}, 'model_name': 'gpt-3.5-turbo-0125', 'system_fingerprint': None, 'id': 'chatcmpl-CNE6GueSbwa1OUQoF9K01qSK8orwR', 'service_tier': 'default', 'finish_reason': 'stop', 'logprobs': None}, id='run--c657764c-a59b-4744-93b2-f68f53376f14-0', usage_metadata={'input_tokens': 59, 'output_tokens': 11, 'total_tokens': 70, 'input_token_details': {'audio': 0, 'cache_read': 0}, 'output_token_details': {'audio': 0, 'reasoning': 0}}), HumanMessage(content='now can you multiply the result with 2', additional_kwargs={}, response_metadata={}, id='06607623-6856-4c7e-9c21-db7bde9085d5'), AIMessage(content='Of course! 110 x 2 = 220.', additional_kwargs={'refusal': None}, response_metadata={'token_usage': {'completion_tokens': 12, 'prompt_tokens': 87, 'total_tokens': 99, 'completion_tokens_details': {'accepted_prediction_tokens': 0, 'audio_tokens': 0, 'reasoning_tokens': 0, 'rejected_prediction_tokens': 0}, 'prompt_tokens_details': {'audio_tokens': 0, 'cached_tokens': 0}}, 'model_name': 'gpt-3.5-turbo-0125', 'system_fingerprint': None, 'id': 'chatcmpl-CNE6fbxSPzYKiRXwIXvU43wn1yijY', 'service_tier': 'default', 'finish_reason': 'stop', 'logprobs': None}, id='run--15c1e14a-4e32-48ca-8120-634d0ed22c48-0', usage_metadata={'input_tokens': 87, 'output_tokens': 12, 'total_tokens': 99, 'input_token_details': {'audio': 0, 'cache_read': 0}, 'output_token_details': {'audio': 0, 'reasoning': 0}})]}, next=(), config={'configurable': {'thread_id': '1', 'checkpoint_ns': '', 'checkpoint_id': '1f0a1c2b-3f6d-65d9-800a-f6d1deb0b26a'}}, metadata={'source': 'loop', 'step': 10, 'parents': {}}, created_at='2025-10-05T08:10:06.351100+00:00', parent_config={'configurable': {'thread_id': '1', 'checkpoint_ns': '', 'checkpoint_id': '1f0a1c2b-3131-68d6-8009-e23f7ff955b9'}}, tasks=(), interrupts=())"
      ]
     },
     "execution_count": 13,
     "metadata": {},
     "output_type": "execute_result"
    }
   ],
   "source": [
    "chatbot.get_state(config=config)"
   ]
  }
 ],
 "metadata": {
  "kernelspec": {
   "display_name": "Python 3",
   "language": "python",
   "name": "python3"
  },
  "language_info": {
   "codemirror_mode": {
    "name": "ipython",
    "version": 3
   },
   "file_extension": ".py",
   "mimetype": "text/x-python",
   "name": "python",
   "nbconvert_exporter": "python",
   "pygments_lexer": "ipython3",
   "version": "3.12.6"
  }
 },
 "nbformat": 4,
 "nbformat_minor": 5
}
