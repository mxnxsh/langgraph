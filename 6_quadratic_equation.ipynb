{
 "cells": [
  {
   "cell_type": "code",
   "execution_count": 15,
   "id": "405f95a4",
   "metadata": {},
   "outputs": [],
   "source": [
    "from langgraph.graph import StateGraph, START, END\n",
    "from typing import TypedDict, Literal"
   ]
  },
  {
   "cell_type": "code",
   "execution_count": 16,
   "id": "bdda9634",
   "metadata": {},
   "outputs": [],
   "source": [
    "class QuadState(TypedDict):\n",
    "    a: float\n",
    "    b: float\n",
    "    c: float\n",
    "\n",
    "    equation : str\n",
    "    discriminant: float\n",
    "    root: str"
   ]
  },
  {
   "cell_type": "code",
   "execution_count": 17,
   "id": "8826c48b",
   "metadata": {},
   "outputs": [],
   "source": [
    "def show_equation(state: QuadState) :\n",
    "  equation = f\"{state['a']}x^2 + {state['b']}x + {state['c']} = 0\"\n",
    "  return {'equation': equation}"
   ]
  },
  {
   "cell_type": "code",
   "execution_count": 18,
   "id": "bc26b3b1",
   "metadata": {},
   "outputs": [],
   "source": [
    "def calculate_discriminant(state: QuadState) :\n",
    "  a = state['a']\n",
    "  b = state['b']\n",
    "  c = state['c']\n",
    "  discriminant = b**2 - 4*a*c\n",
    "  return {'discriminant': discriminant} "
   ]
  },
  {
   "cell_type": "code",
   "execution_count": 19,
   "id": "2f6cb119",
   "metadata": {},
   "outputs": [],
   "source": [
    "def real_roots(state: QuadState) :\n",
    "  a = state['a']\n",
    "  b = state['b']\n",
    "  c = state['c']\n",
    "  discriminant = state['discriminant']\n",
    "  \n",
    "  if discriminant < 0:\n",
    "    return {'root': 'No real roots'}\n",
    "  \n",
    "  root1 = (-b + discriminant**0.5) / (2 * a)\n",
    "  root2 = (-b - discriminant**0.5) / (2 * a)\n",
    "  \n",
    "  return {'root': f\"Roots are {root1} and {root2}\"}"
   ]
  },
  {
   "cell_type": "code",
   "execution_count": 20,
   "id": "cbda993b",
   "metadata": {},
   "outputs": [],
   "source": [
    "def repeated_roots(state: QuadState) :\n",
    "  a = state['a']\n",
    "  b = state['b']\n",
    "  c = state['c']\n",
    "  discriminant = state['discriminant']\n",
    "  \n",
    "  if discriminant != 0:\n",
    "    return {'root': 'No repeated roots'}\n",
    "  \n",
    "  root = -b / (2 * a)\n",
    "  return {'root': f\"Repeated root is {root}\"}"
   ]
  },
  {
   "cell_type": "code",
   "execution_count": 21,
   "id": "1477f232",
   "metadata": {},
   "outputs": [],
   "source": [
    "def no_real_roots(state: QuadState) :\n",
    "  a = state['a']\n",
    "  b = state['b']\n",
    "  c = state['c']\n",
    "  discriminant = state['discriminant']\n",
    "  \n",
    "  if discriminant >= 0:\n",
    "    return {'root': 'There are real roots'}\n",
    "  \n",
    "  return {'root': 'No real roots'}"
   ]
  },
  {
   "cell_type": "code",
   "execution_count": 22,
   "id": "e304de72",
   "metadata": {},
   "outputs": [],
   "source": [
    "def check_condition(state: QuadState) -> Literal[\"real_roots\",\"repeated_roots\",\"no_real_roots\"]:\n",
    "    if state['discriminant'] > 0:\n",
    "        return \"real_roots\"\n",
    "    elif state['discriminant'] == 0:\n",
    "        return \"repeated_roots\"\n",
    "    else:\n",
    "        return \"no_real_roots\""
   ]
  },
  {
   "cell_type": "code",
   "execution_count": 27,
   "id": "6c69c623",
   "metadata": {},
   "outputs": [],
   "source": [
    "graph = StateGraph(QuadState)\n",
    "\n",
    "# Add nodes to the graph\n",
    "graph.add_node('show_equation', show_equation)\n",
    "graph.add_node('calculate_discriminant', calculate_discriminant)\n",
    "graph.add_node('real_roots', real_roots)\n",
    "graph.add_node('repeated_roots', repeated_roots)\n",
    "graph.add_node('no_real_roots', no_real_roots)\n",
    "\n",
    "# Add edges to connect the nodes\n",
    "\n",
    "graph.add_edge(START, 'show_equation')\n",
    "graph.add_edge('show_equation', 'calculate_discriminant')\n",
    "graph.add_conditional_edges('calculate_discriminant',check_condition)\n",
    "graph.add_edge('real_roots', END)\n",
    "graph.add_edge('repeated_roots', END)\n",
    "graph.add_edge('no_real_roots', END)\n",
    "\n",
    "# Compile the graph\n",
    "workflow = graph.compile()"
   ]
  },
  {
   "cell_type": "code",
   "execution_count": 28,
   "id": "51959ff8",
   "metadata": {},
   "outputs": [
    {
     "data": {
      "text/plain": [
       "{'a': 4,\n",
       " 'b': 2,\n",
       " 'c': 2,\n",
       " 'equation': '4x^2 + 2x + 2 = 0',\n",
       " 'discriminant': -28,\n",
       " 'root': 'No real roots'}"
      ]
     },
     "execution_count": 28,
     "metadata": {},
     "output_type": "execute_result"
    }
   ],
   "source": [
    "initial_state = {\n",
    "  \"a\": 4,\n",
    "  \"b\": 2,\n",
    "  \"c\": 2\n",
    "}\n",
    "\n",
    "workflow.invoke(initial_state)  # Invoke the workflow with the initial state"
   ]
  }
 ],
 "metadata": {
  "kernelspec": {
   "display_name": "Python 3",
   "language": "python",
   "name": "python3"
  },
  "language_info": {
   "codemirror_mode": {
    "name": "ipython",
    "version": 3
   },
   "file_extension": ".py",
   "mimetype": "text/x-python",
   "name": "python",
   "nbconvert_exporter": "python",
   "pygments_lexer": "ipython3",
   "version": "3.12.6"
  }
 },
 "nbformat": 4,
 "nbformat_minor": 5
}
